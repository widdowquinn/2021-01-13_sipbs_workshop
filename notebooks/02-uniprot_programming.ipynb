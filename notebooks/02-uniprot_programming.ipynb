{
 "cells": [
  {
   "cell_type": "markdown",
   "metadata": {},
   "source": [
    "<img src=\"../assets/images/science_logo_400x400.jpg\" style=\"width: 150px; float: right;\">\n",
    "\n",
    "# 02 - Programming for `UniProt` (browser/notebook)"
   ]
  },
  {
   "cell_type": "markdown",
   "metadata": {},
   "source": [
    "## Table of Contents\n",
    "\n",
    "1. [Introduction](#introduction)\n",
    "2. [Python imports](#imports)\n",
    "3. [Running a remote `UniProt` query](#uniprot)\n",
    "  1. [Connecting to `UniProt`](#connect)\n",
    "  2. [Constructing a query](#query)\n",
    "  3. [Perform the query](#search)\n",
    "  4. [EXAMPLE: Putting it together](#example01)\n",
    "4. [Advanced queries](#advanced)\n",
    "  1. [`key:value` queries](#keyvalue)\n",
    "  2. [Exercise 01](#ex01)\n",
    "  3. [Combining queries](#combine)\n",
    "  4. [Exercise 02](#ex02)  \n",
    "4. [Processing query results](#processing)\n",
    "  1. [Tabular](#tabular)\n",
    "  2. [Excel](#excel)  \n",
    "  3. [FASTA sequence](#fasta)\n",
    "  4. [`pandas` dataframe](#pandas)"
   ]
  },
  {
   "cell_type": "markdown",
   "metadata": {},
   "source": [
    "<a id=\"introduction\"></a>\n",
    "## Introduction\n",
    "\n",
    "The `UniProt` browser interface is very powerful, but you will have noticed from the previous exercises that even the most complex queries can be converted into a single string that describes the search being made of the `UniProt` databases. Using the browser interface, this string is generated for you, and placed into the search field at the top of the `UniProt` webpage every time you run a search.\n",
    "\n",
    "<p></p>\n",
    "<div class=\"alert-danger\">\n",
    "<b>It can be tedious and time-consuming to point-and-click your way through a large number of browser-based searches, but by using the <code>UniProt</code> <i>webservice</i>, the search strings you've already seen, and a Python module called <code>bioservices</code>, we can compose and run as many searches as we like using a small amount of code, and pull the results of those searches down to our local machines.</b>\n",
    "</div>\n",
    "\n",
    "This notebook presents examples of methods for using `UniProt` programmatically, via a *webservice*, and you will be controlling the searches using Python code in this notebook.\n",
    "\n",
    "There are a number of advantages to this approach:\n",
    "\n",
    "<p></p>\n",
    "<div class=\"alert-success\"><b>\n",
    "    <ul>\n",
    "        <li> It is easy to set up repeatable searches for many sequences, or collections of sequences\n",
    "        <li> It is easy to read in the search results and conduct downstream analyses that add value to your search\n",
    "    </ul>\n",
    "</b></div>\n",
    "\n",
    "Where it is not practical to submit a large number of simultaneous queries via a web form (because it is tiresome to point-and-click over and over again), this can be handled programmatically instead. You have the opportunity to change custom options to help refine your query, compared to the website interface. If you need to repeat a query, it can be trivial to apply the same settings every time, if you use a programmatic approach."
   ]
  },
  {
   "cell_type": "markdown",
   "metadata": {},
   "source": [
    "<a id=\"imports\"></a>\n",
    "## Python imports\n",
    "\n",
    "To use the Python programming language to query `UniProt`, we have to *import* helpful *packages* (collections of Python code that perform specialised tasks."
   ]
  },
  {
   "cell_type": "code",
   "execution_count": 1,
   "metadata": {},
   "outputs": [],
   "source": [
    "# Show plots as part of the notebook\n",
    "%matplotlib inline\n",
    "\n",
    "# io is a standard library package that lets us manipulate data\n",
    "import io\n",
    "\n",
    "# Import Seaborn for graphics and plotting\n",
    "import seaborn as sns\n",
    "\n",
    "# Import bioservices module, to run remote UniProt queries\n",
    "from bioservices import UniProt\n",
    "\n",
    "# Import Pandas, so we can use dataframes\n",
    "import pandas as pd"
   ]
  },
  {
   "cell_type": "markdown",
   "metadata": {},
   "source": [
    "<a id=\"uniprot\"></a>\n",
    "## Running a remote `UniProt` query\n",
    "\n",
    "<p></p>\n",
    "<div class=\"alert-success\">\n",
    "    <b>There are three key steps to running a remote <code>UniProt</code> query with <code>bioservices</code>:</b>\n",
    "</div>\n",
    "\n",
    "1. Make a link to the `UniProt` webservice\n",
    "2. Construct a query string\n",
    "3. Send the query to `UniProt`, and catch the result in a *variable*\n",
    "\n",
    "Once the search result is caught and contained in a *variable*, that *variable* can be processed in any way you like, written to a file, or ignored."
   ]
  },
  {
   "cell_type": "markdown",
   "metadata": {},
   "source": [
    "<a id=\"connect\"></a>\n",
    "### Connecting to `UniProt`\n",
    "\n",
    "To open a connection to `UniProt`, you make an *instance* of the `UniProt()` *class* from `bioservices`. This can be made to be persistent so that, once a single connection to the database is created, you can interact with it over and over again to make multiple queries. \n",
    "\n",
    "<p></p>\n",
    "<div class=\"alert-success\">\n",
    "<b>To make a persistent instance, you can assign `UniProt()` to a variable:</b>\n",
    "</div>\n",
    "\n",
    "```python\n",
    "service = UniProt() # it is good practice to have a meaningful variable name\n",
    "```"
   ]
  },
  {
   "cell_type": "markdown",
   "metadata": {},
   "source": [
    "<a id=\"query\"></a>\n",
    "### Constructing a query\n",
    "\n",
    "<p></p>\n",
    "<div class=\"alert-success\">\n",
    "<b>`UniProt` allows for the construction of complex searches by combining *fields*. A full discussion is beyond the scope of this lesson, but you will have seen in <a href=\"01-uniprot_browser.ipynb\">the preceding notebook</a> that the searches you constructed by pointing and clicking on the <code>UniProt</code> website were converted into text in the search field at the top. </b>\n",
    "</div>\n",
    "\n",
    "To describe the format briefly: there are a set of defined *keywords* (or *keys*) that indicate the specific type of data you want to search in (such as `host`, `annotation`, or sequence `length`), and these are combined with a particular *value* you want to search for (such as `mouse`, or `40674`) in a `key:value` pair, separated by a colon, such as `host:mouse` or `ec:3.2.1.23`.\n",
    "\n",
    "* `UniProt` query fields: [http://www.uniprot.org/help/query-fields](http://www.uniprot.org/help/query-fields)\n",
    "\n",
    "If you provide a string, instead of a `key:value` pair, `UniProt` will search in all *fields* for your search term.\n",
    "\n",
    "Programmatically, we construct the query as a *string*, e.g.\n",
    "\n",
    "```python\n",
    "query = \"Q9AJE3\"  # this query means we want to look in all fields for Q9AJE3\n",
    "```"
   ]
  },
  {
   "cell_type": "markdown",
   "metadata": {},
   "source": [
    "<a id=\"search\"></a>\n",
    "### Perform the query\n",
    "\n",
    "To send the query to `UniProt`, you will use the `.search()` *method* of your active *instance* of the `UniProt()` *class*. \n",
    "\n",
    "<p></p>\n",
    "<div class=\"alert-success\">\n",
    "    <b>If you have assigned your instance to the variable <code>service</code> (as above), then you can run the <code>query</code> string as a remote search with the line:</b>\n",
    "</div>\n",
    "\n",
    "```python\n",
    "result = service.search(query)  # Run a query and catch the output in result\n",
    "```\n",
    "\n",
    "In the line above, the output of the search (i.e. your result) is stored in a new variable (created when the search is complete) called `result`. It is good practice to make variable names short and descriptive - this makes your code easier to read."
   ]
  },
  {
   "cell_type": "markdown",
   "metadata": {},
   "source": [
    "<a id=\"example01\"></a>\n",
    "### EXAMPLE: Putting it together\n",
    "\n",
    "The code in the cell below uses the example code above to create an instance of the `UniProt()` class, and uses it to submit a pre-stored query to the `UniProt` service, then catch the result in a variable called `result`. The `print()` statement then shows us what the result returned by the service looks like."
   ]
  },
  {
   "cell_type": "code",
   "execution_count": 2,
   "metadata": {},
   "outputs": [
    {
     "name": "stdout",
     "output_type": "stream",
     "text": [
      "Entry\tEntry name\tStatus\tProtein names\tGene names\tOrganism\tLength\n",
      "Q9AJE3\tCYC2_KITGR\treviewed\tTerpentetriene synthase (EC 4.2.3.36)\tcyc2\tKitasatospora griseola (Streptomyces griseolosporeus)\t311\n",
      "\n"
     ]
    }
   ],
   "source": [
    "# Make a link to the UniProt webservice (UniProt())\n",
    "service = UniProt()\n",
    "\n",
    "# Build a query string (\"Q9AJE3\")\n",
    "query = \"Q9AJE3\"\n",
    "\n",
    "# Send the query to UniProt, and catch the search result in a variable (service.search())\n",
    "result = service.search(query)\n",
    "\n",
    "# Inspect the result\n",
    "print(result)"
   ]
  },
  {
   "cell_type": "markdown",
   "metadata": {},
   "source": [
    "The `UniProt()` instance defined in the cell above is *persistent*, so you can reuse it to make another query, as in the cell below:"
   ]
  },
  {
   "cell_type": "code",
   "execution_count": 3,
   "metadata": {
    "scrolled": true
   },
   "outputs": [
    {
     "name": "stdout",
     "output_type": "stream",
     "text": [
      "Entry\tEntry name\tStatus\tProtein names\tGene names\tOrganism\tLength\n",
      "Q01844\tEWS_HUMAN\treviewed\tRNA-binding protein EWS (EWS oncogene) (Ewing sarcoma breakpoint region 1 protein)\tEWSR1 EWS\tHomo sapiens (Human)\t656\n",
      "Q13077\tTRAF1_HUMAN\treviewed\tTNF receptor-associated factor 1 (Epstein-Barr virus-induced protein 6)\tTRAF1 EBI6\tHomo sapiens (Human)\t416\n",
      "Q13485\tSMAD4_HUMAN\treviewed\tMothers against decapentaplegic homolog 4 (MAD homolog 4) (Mothers against DPP homolog 4) (Deletion target in pancreatic carcinoma 4) (SMAD family member 4) (SMAD 4) (Smad4) (hSMAD4)\tSMAD4 DPC4 MADH4\tHomo sapiens (Human)\t552\n",
      "P49910\tZN165_HUMAN\treviewed\tZinc finger protein 165 (Cancer/testis antigen 53) (CT53) (LD65) (Zinc finger and SCAN domain-containing protein 7)\tZNF165 ZPF165 ZSCAN7\tHomo sapiens (Human)\t485\n",
      "O95486\tSC24A_HUMAN\treviewed\tProtein transport protein Sec24A (SEC24-related protein A)\tSEC24A\tHomo sapiens (Human)\t1093\n",
      "Q9NS23\tRASF1_HUMAN\treviewed\tRas association domain-containing protein 1\tRASSF1 RDA32\tHomo sapiens (Human)\t344\n",
      "Q12933\tTRAF2_HUMAN\treviewed\tTNF receptor-associated factor 2 (EC 2.3.2.27) (E3 ubiquitin-protein ligase TRAF2) (RING-type E3 ubiquitin transferase TRAF2) (Tumor necrosis factor type 2 receptor-associated protein 3)\tTRAF2 TRAP3\tHomo sapiens (Human)\t501\n",
      "Q92734\tTFG_HUMAN\treviewed\tProtein TFG (TRK-fused gene protein)\tTFG\tHomo sapiens (Human)\t400\n",
      "O94855\tSC24D_HUMAN\treviewed\tProtein transport protein Sec24D (SEC24-related protein D)\tSEC24D KIAA0755\tHomo sapiens (Human)\t1032\n",
      "P35637\tFUS_HUMAN\treviewed\tRNA-binding protein FUS (75 kDa DNA-pairing protein) (Oncogene FUS) (Oncogene TLS) (POMp75) (Translocated in liposarcoma protein)\tFUS TLS\tHomo sapiens (Human)\t526\n",
      "Q8NDC0\tMISSL_HUMAN\treviewed\tMAPK-interacting and spindle-stabilizing protein-like (Mitogen-activated protein kinase 1-interacting protein 1-like)\tMAPK1IP1L C14orf32\tHomo sapiens (Human)\t245\n",
      "Q9UBV8\tPEF1_HUMAN\treviewed\tPeflin (PEF protein with a long N-terminal hydrophobic domain) (Penta-EF hand domain-containing protein 1)\tPEF1 ABP32 UNQ1845/PRO3573\tHomo sapiens (Human)\t284\n",
      "O15162\tPLS1_HUMAN\treviewed\tPhospholipid scramblase 1 (PL scramblase 1) (Ca(2+)-dependent phospholipid scramblase 1) (Erythrocyte phospholipid scramblase) (Mg(2+)-dependent nuclease) (EC 3.1.-.-) (MmTRA1b)\tPLSCR1\tHomo sapiens (Human)\t318\n",
      "Q9NZ81\tPRR13_HUMAN\treviewed\tProline-rich protein 13 (Taxane-resistance protein)\tPRR13 TXR1 BM-041\tHomo sapiens (Human)\t148\n",
      "Q9BWW4\tSSBP3_HUMAN\treviewed\tSingle-stranded DNA-binding protein 3 (Sequence-specific single-stranded-DNA-binding protein)\tSSBP3 SSDP SSDP1\tHomo sapiens (Human)\t388\n",
      "Q99873\tANM1_HUMAN\treviewed\tProtein arginine N-methyltransferase 1 (EC 2.1.1.319) (Histone-arginine N-methyltransferase PRMT1) (Interferon receptor 1-bound protein 4)\tPRMT1 HMT2 HRMT1L2 IR1B4\tHomo sapiens (Human)\t371\n",
      "Q92993\tKAT5_HUMAN\treviewed\tHistone acetyltransferase KAT5 (EC 2.3.1.48) (60 kDa Tat-interactive protein) (Tip60) (Histone acetyltransferase HTATIP) (HIV-1 Tat interactive protein) (Lysine acetyltransferase 5) (cPLA(2)-interacting protein)\tKAT5 HTATIP TIP60\tHomo sapiens (Human)\t513\n",
      "Q09472\tEP300_HUMAN\treviewed\tHistone acetyltransferase p300 (p300 HAT) (EC 2.3.1.48) (E1A-associated protein p300) (Histone butyryltransferase p300) (EC 2.3.1.-) (Histone crotonyltransferase p300) (EC 2.3.1.-) (Protein 2-hydroxyisobutyryltransferase p300) (EC 2.3.1.-) (Protein propionyltransferase p300) (EC 2.3.1.-)\tEP300 P300\tHomo sapiens (Human)\t2414\n",
      "Q8N5M1\tATPF2_HUMAN\treviewed\tATP synthase mitochondrial F1 complex assembly factor 2 (ATP12 homolog)\tATPAF2 ATP12 LP3663\tHomo sapiens (Human)\t289\n",
      "\n"
     ]
    }
   ],
   "source": [
    "# Make a new query string \"Q01844\", and run a remote search at UniProt\n",
    "new_query = \"Q01844\"\n",
    "new_result = service.search(new_query)\n",
    "\n",
    "# Inspect the result\n",
    "print(new_result)"
   ]
  },
  {
   "cell_type": "markdown",
   "metadata": {},
   "source": [
    "<a id=\"advanced\"></a>\n",
    "## Advanced queries\n",
    "\n",
    "<p></p>\n",
    "<div class=\"alert-success\">\n",
    "<b>The examples above built queries that were simple strings. They did not exploit the <code>key:value</code> search structure, or combine search terms. In this section, you will explore some queries that use the <code>UniProt</code> query fields, and combine them into powerful, filtering searches.</b>\n",
    "</div>"
   ]
  },
  {
   "cell_type": "markdown",
   "metadata": {},
   "source": [
    "<a id=\"keyvalue\"></a>\n",
    "### `key:value` queries\n",
    "\n",
    "As noted above (and at [http://www.uniprot.org/help/query-fields](http://www.uniprot.org/help/query-fields)) particular values of specific data can be requested by using `key:value` pairs to restrict searches to named *fields* in the `UniProt` database.\n",
    "\n",
    "As a first example, you will note that the result returned for the query `\"Q01844\"` has multiple entries. Only one of these is the sequence with `accession` value equal to `\"Q01844\"`, but the other entries make reference to this sequence somewhere in their database record. If we want to restrict our result only to the particular entry `\"Q01844\"`, we can specify the field we want to search as `accession`, and build the following query:\n",
    "\n",
    "```python\n",
    "query = \"accession:Q01844\"  # specify a search on the accession field\n",
    "```\n",
    "\n",
    "Note that we can use the same variable name `query` as earlier (this overwrites the previous value in `query`). The code below runs the search and shows the output:"
   ]
  },
  {
   "cell_type": "code",
   "execution_count": 4,
   "metadata": {},
   "outputs": [
    {
     "name": "stdout",
     "output_type": "stream",
     "text": [
      "Entry\tEntry name\tStatus\tProtein names\tGene names\tOrganism\tLength\n",
      "Q01844\tEWS_HUMAN\treviewed\tRNA-binding protein EWS (EWS oncogene) (Ewing sarcoma breakpoint region 1 protein)\tEWSR1 EWS\tHomo sapiens (Human)\t656\n",
      "\n"
     ]
    }
   ],
   "source": [
    "# Make a new query string (\"accession:Q01844\"), and run a remote search at UniProt\n",
    "query = \"accession:Q01844\"\n",
    "result = service.search(query)\n",
    "\n",
    "# Inspect the result\n",
    "print(result)"
   ]
  },
  {
   "cell_type": "markdown",
   "metadata": {},
   "source": [
    "<div class=\"alert-success\">\n",
    "    <b>By using this and other <code>key:value</code> constructions, we can refine our searches to give us only the entries we're interested in</b>\n",
    "</div>"
   ]
  },
  {
   "cell_type": "markdown",
   "metadata": {},
   "source": [
    "<img src=\"../assets/images/exercise.png\" style=\"width: 100px; float: left;\">\n",
    "\n",
    "<a id=\"ex01\"></a>\n",
    "### Exercise 01 (10min)\n",
    "\n",
    "Using `key:value` searches, can you find and download sets of entries for proteins that satisfy the following requirements? (**HINT:** this <a href=\"http://www.uniprot.org/help/query-fields\">link</a> to the `UniProt` query fields may be helpful, here):\n",
    "\n",
    "<p></p>\n",
    "<div class=\"alert-danger\">\n",
    "<ul>\n",
    "<li> Have publications authored by someone with the surname Broadhurst\n",
    "<li> Have protein length between 9000aa and 9010aa\n",
    "<li> Derive from the taipan snake\n",
    "<li> Have been found in the wing\n",
    "</ul>\n",
    "</div>"
   ]
  },
  {
   "cell_type": "code",
   "execution_count": 5,
   "metadata": {
    "scrolled": true
   },
   "outputs": [
    {
     "name": "stdout",
     "output_type": "stream",
     "text": [
      "Entry\tEntry name\tStatus\tProtein names\tGene names\tOrganism\tLength\n",
      "P0AFG6\tODO2_ECOLI\treviewed\tDihydrolipoyllysine-residue succinyltransferase component of 2-oxoglutarate dehydrogenase complex (EC 2.3.1.61) (2-oxoglutarate dehydrogenase complex component E2) (OGDC-E2) (Dihydrolipoamide succinyltransferase component of 2-oxoglutarate dehydrogenase complex)\tsucB b0727 JW0716\tEscherichia coli (strain K12)\t405\n",
      "Q03132\tERYA2_SACER\treviewed\t6-deoxyerythronolide-B synthase EryA2, modules 3 and 4 (DEBS 2) (EC 2.3.1.94) (6-deoxyerythronolide B synthase II) (Erythronolide synthase) (ORF B)\teryA\tSaccharopolyspora erythraea (Streptomyces erythraeus)\t3567\n",
      "Q32NN2\tQKIA_XENLA\treviewed\tProtein quaking-A (Xqua)\tqki-a\tXenopus laevis (African clawed frog)\t341\n",
      "P83917\tCBX1_MOUSE\treviewed\tChromobox protein homolog 1 (Heterochromatin protein 1 homolog beta) (HP1 beta) (Heterochromatin protein p25) (M31) (Modifier 1 protein)\tCbx1 Cbx\tMus musculus (Mouse)\t185\n",
      "P63159\tHMGB1_RAT\treviewed\tHigh mobility group protein B1 (Amphoterin) (Heparin-binding protein p30) (High mobility group protein 1) (HMG-1)\tHmgb1 Hmg-1 Hmg1\tRattus norvegicus (Rat)\t215\n",
      "P03956\tMMP1_HUMAN\treviewed\tInterstitial collagenase (EC 3.4.24.7) (Fibroblast collagenase) (Matrix metalloproteinase-1) (MMP-1) [Cleaved into: 22 kDa interstitial collagenase; 27 kDa interstitial collagenase]\tMMP1 CLG\tHomo sapiens (Human)\t469\n",
      "P10515\tODP2_HUMAN\treviewed\tDihydrolipoyllysine-residue acetyltransferase component of pyruvate dehydrogenase complex, mitochondrial (EC 2.3.1.12) (70 kDa mitochondrial autoantigen of primary biliary cirrhosis) (PBC) (Dihydrolipoamide acetyltransferase component of pyruvate dehydrogenase complex) (M2 antigen complex 70 kDa subunit) (Pyruvate dehydrogenase complex component E2) (PDC-E2) (PDCE2)\tDLAT DLTA\tHomo sapiens (Human)\t647\n",
      "Q863B3\tSND1_BOVIN\treviewed\tStaphylococcal nuclease domain-containing protein 1 (EC 3.1.31.1) (100 kDa coactivator) (p100 co-activator)\tSND1\tBos taurus (Bovine)\t910\n",
      "P0ABD8\tBCCP_ECOLI\treviewed\tBiotin carboxyl carrier protein of acetyl-CoA carboxylase (BCCP)\taccB fabE b3255 JW3223\tEscherichia coli (strain K12)\t156\n",
      "Q6IRN2\tQKIB_XENLA\treviewed\tProtein quaking-B\tqki-b\tXenopus laevis (African clawed frog)\t342\n",
      "Q9JZ09\tQ9JZ09_NEIMB\tunreviewed\tDihydrolipoyl dehydrogenase (EC 1.8.1.4)\tlpdA2 NMB1344\tNeisseria meningitidis serogroup B (strain MC58)\t594\n",
      "P56596\tPSAD_NOSS8\treviewed\tPhotosystem I reaction center subunit II (Photosystem I 16 kDa polypeptide) (PSI-D)\tpsaD\tNostoc sp. (strain PCC 8009)\t138\n",
      "Q6MZA5\tQ6MZA5_MYCUA\tunreviewed\tType I modular polyketide synthase\tmlsA2 MUP039c\tMycobacterium ulcerans (strain Agy99)\t2410\n",
      "Q6MZA4\tQ6MZA4_MYCUA\tunreviewed\tType I modular polyketide synthase\tmlsA1 MUP040c\tMycobacterium ulcerans (strain Agy99)\t16990\n",
      "Q6MZ72\tQ6MZ72_MYCUA\tunreviewed\tType I modular polyketide synthase\tmlsB MUP032c\tMycobacterium ulcerans (strain Agy99)\t14130\n",
      "Q9R6W5\tQ9R6W5_NOSS8\tunreviewed\tPhotosystem I reaction center subunit II\tpsaD\tNostoc sp. (strain PCC 8009)\t139\n",
      "Q5ZPA9\tQ5ZPA9_9DELT\tunreviewed\tTubC protein\ttubC\tArchangium disciforme\t2625\n",
      "A0A3G2YQL8\tA0A3G2YQL8_9ALPH\tunreviewed\tDNA-directed DNA polymerase (EC 2.7.7.7) (Fragment)\t\tChelonid alphaherpesvirus 5\t161\n",
      "A0A3G2YQS0\tA0A3G2YQS0_9ALPH\tunreviewed\tDNA-directed DNA polymerase (EC 2.7.7.7) (Fragment)\t\tChelonid alphaherpesvirus 5\t161\n",
      "A0A3G2YRB9\tA0A3G2YRB9_9ALPH\tunreviewed\tDNA-directed DNA polymerase (EC 2.7.7.7) (Fragment)\t\tChelonid alphaherpesvirus 5\t161\n",
      "Q9WWN8\tQ9WWN8_NOSS8\tunreviewed\tAnthranilate synthase component I (Fragment)\ttrpE\tNostoc sp. (strain PCC 8009)\t237\n",
      "Q9WWN9\tQ9WWN9_NOSS8\tunreviewed\tSensory transduction histidine kinase (Fragment)\t\tNostoc sp. (strain PCC 8009)\t98\n",
      "Q86UF7\tQ86UF7_HUMAN\tunreviewed\t100 kDa coactivator (Fragment)\t\tHomo sapiens (Human)\t16\n",
      "\n"
     ]
    }
   ],
   "source": [
    "# SOLUTION - EXERCISE 01\n",
    "query = \"citation:(author:broadhurst)\"\n",
    "result = service.search(query)\n",
    "print(result)"
   ]
  },
  {
   "cell_type": "code",
   "execution_count": 6,
   "metadata": {
    "scrolled": true
   },
   "outputs": [
    {
     "name": "stdout",
     "output_type": "stream",
     "text": [
      "Entry\tEntry name\tStatus\tProtein names\tGene names\tOrganism\tLength\n",
      "A0A6I8THK6\tA0A6I8THK6_AEDAE\tunreviewed\tUncharacterized protein\t5576237\tAedes aegypti (Yellowfever mosquito) (Culex aegypti)\t9004\n",
      "A0A6I8TS24\tA0A6I8TS24_AEDAE\tunreviewed\tUncharacterized protein\t5576237\tAedes aegypti (Yellowfever mosquito) (Culex aegypti)\t9005\n",
      "A0A6I8TS57\tA0A6I8TS57_AEDAE\tunreviewed\tUncharacterized protein\t5576237\tAedes aegypti (Yellowfever mosquito) (Culex aegypti)\t9003\n",
      "A0A6I8TU04\tA0A6I8TU04_AEDAE\tunreviewed\tUncharacterized protein\t5576237\tAedes aegypti (Yellowfever mosquito) (Culex aegypti)\t9007\n",
      "A0A6I8TR55\tA0A6I8TR55_AEDAE\tunreviewed\tUncharacterized protein\t5576237\tAedes aegypti (Yellowfever mosquito) (Culex aegypti)\t9003\n",
      "A0A6I8TSG5\tA0A6I8TSG5_AEDAE\tunreviewed\tUncharacterized protein\t5576237\tAedes aegypti (Yellowfever mosquito) (Culex aegypti)\t9000\n",
      "A0A541B7M6\tA0A541B7M6_9NOCA\tunreviewed\tMycobactin synthetase protein B (Phenyloxazoline synthase MbtB)\tFK531_14655\tRhodococcus sp. C9-5\t9001\n",
      "A0A0Q9WY93\tA0A0Q9WY93_DROVI\tunreviewed\tUncharacterized protein, isoform J (Uncharacterized protein, isoform L)\tDvir\\GJ15760 Dvir_GJ15760 GJ15760\tDrosophila virilis (Fruit fly)\t9003\n",
      "A0A1E7N8F6\tA0A1E7N8F6_KITAU\tunreviewed\tBeta-ketoacyl synthase (Fragment)\tHS99_0003795\tKitasatospora aureofaciens (Streptomyces aureofaciens)\t9000\n",
      "A0A6G7V8D6\tA0A6G7V8D6_RALSL\tunreviewed\tHybrid non-ribosomal peptide synthetase/type I polyketide synthase\tG7939_23095 G7969_23020\tRalstonia solanacearum (Pseudomonas solanacearum)\t9008\n",
      "A0A4Q0ZTP5\tA0A4Q0ZTP5_9PROT\tunreviewed\tCadherin domain-containing protein\tCRV01_06125\tArcobacter sp. CECT 8983\t9003\n",
      "A0A0G4GJ59\tA0A0G4GJ59_VITBC\tunreviewed\tUncharacterized protein (Fragment)\tVbra_4545\tVitrella brassicaformis (strain CCMP3155)\t9001\n",
      "A0A2P7PXJ0\tA0A2P7PXJ0_9ACTN\tunreviewed\tBeta-ketoacyl synthase (Fragment)\tB7P34_01725\tStreptosporangium nondiastaticum\t9004\n",
      "A0A0Q9XTA6\tA0A0Q9XTA6_DROMO\tunreviewed\tUncharacterized protein\tDmoj\\GI14082 Dmoj_GI14082\tDrosophila mojavensis (Fruit fly)\t9002\n",
      "A0A0Q9WYB5\tA0A0Q9WYB5_DROVI\tunreviewed\tUncharacterized protein, isoform U\tDvir\\GJ15760 Dvir_GJ15760 GJ15760\tDrosophila virilis (Fruit fly)\t9002\n",
      "A0A0Q9WLJ1\tA0A0Q9WLJ1_DROVI\tunreviewed\tUncharacterized protein, isoform W\tDvir\\GJ15760 Dvir_GJ15760 GJ15760\tDrosophila virilis (Fruit fly)\t9000\n",
      "A0A6I8W397\tA0A6I8W397_DROPS\tunreviewed\ttwitchin isoform X8\tLOC6899878\tDrosophila pseudoobscura pseudoobscura (Fruit fly)\t9010\n",
      "A0A1K0GG54\tA0A1K0GG54_9ACTN\tunreviewed\tAceP4\tBG844_00045\tCouchioplanes caeruleus subsp. caeruleus\t9002\n",
      "A0A4U5J8Z9\tA0A4U5J8Z9_9EURY\tunreviewed\tHalomucin\tDM868_13890\tNatronomonas salsuginis\t9006\n",
      "A0A3N1GDP3\tA0A3N1GDP3_9ACTN\tunreviewed\tKS-AT-KR-ACP domain-containing polyene macrolide polyketide synthase/pimaricinolide synthase PimS2/candicidin polyketide synthase FscD\tEDD30_1134\tCouchioplanes caeruleus\t9002\n",
      "A0A2P9C953\tA0A2P9C953_9APIC\tunreviewed\tUncharacterized protein\tPADL01_1302600\tPlasmodium sp. gorilla clade G2\t9004\n",
      "A0A3B0KUH2\tA0A3B0KUH2_DROGU\tunreviewed\tBlast:Twitchin\tDGUA_6G019164\tDrosophila guanche (Fruit fly)\t9008\n",
      "A0A6J3C3I7\tA0A6J3C3I7_GALME\tunreviewed\ttwitchin isoform X19\tLOC113519393\tGalleria mellonella (Greater wax moth)\t9007\n",
      "A0A4R8TS32\tA0A4R8TS32_9PEZI\tunreviewed\tPutative cell agglutination protein\tC8034_v004298\tColletotrichum sidae\t9007\n",
      "A0A182NEA8\tA0A182NEA8_9DIPT\tunreviewed\tUncharacterized protein\t\tAnopheles dirus\t9010\n",
      "A0A0L0D1D3\tA0A0L0D1D3_THETB\tunreviewed\tUncharacterized protein\tAMSG_00155\tThecamonas trahens ATCC 50062\t9005\n",
      "A0A6P8HDE7\tA0A6P8HDE7_ACTTE\tunreviewed\tnesprin-1-like isoform X2\tLOC116288010\tActinia tenebrosa (Australian red waratah sea anemone)\t9002\n",
      "A0A6M9L072\tA0A6M9L072_RALSL\tunreviewed\tHybrid non-ribosomal peptide synthetase/type I polyketide synthase\tHI797_22640 HI798_22630 HI799_22630 HI800_22625 HI803_22640 HI804_22630 HI805_22625 HI806_22620\tRalstonia solanacearum (Pseudomonas solanacearum)\t9004\n",
      "A0A6P9A299\tA0A6P9A299_THRPL\tunreviewed\tLOW QUALITY PROTEIN: twitchin\tLOC117651726\tThrips palmi (Melon thrips)\t9004\n",
      "A0A6P8H4W4\tA0A6P8H4W4_ACTTE\tunreviewed\tnesprin-1-like isoform X1\tLOC116288010\tActinia tenebrosa (Australian red waratah sea anemone)\t9003\n",
      "A0A6M9HP86\tA0A6M9HP86_RALSL\tunreviewed\tNon-ribosomal peptide synthase/polyketide synthase\tHI792_22670 HI808_20250 HI812_20245\tRalstonia solanacearum (Pseudomonas solanacearum)\t9007\n",
      "\n"
     ]
    }
   ],
   "source": [
    "# SOLUTION - EXERCISE 01\n",
    "query = \"length:[9000 TO 9010]\"\n",
    "result = service.search(query)\n",
    "print(result)"
   ]
  },
  {
   "cell_type": "code",
   "execution_count": 7,
   "metadata": {},
   "outputs": [
    {
     "name": "stdout",
     "output_type": "stream",
     "text": [
      "Entry\tEntry name\tStatus\tProtein names\tGene names\tOrganism\tLength\n",
      "P00614\tPA2TA_OXYSC\treviewed\tBasic phospholipase A2 taipoxin alpha chain (svPLA2) (EC 3.1.1.4) (Phosphatidylcholine 2-acylhydrolase)\t\tOxyuranus scutellatus scutellatus (Australian taipan) (Coastal taipan)\t119\n",
      "Q45Z47\tPA22_OXYSC\treviewed\tPhospholipase A2 OS2 (PLA2) (EC 3.1.1.4) (Phosphatidylcholine 2-acylhydrolase)\t\tOxyuranus scutellatus scutellatus (Australian taipan) (Coastal taipan)\t146\n",
      "P00615\tPA2TB_OXYSC\treviewed\tNeutral phospholipase A2 homolog taipoxin beta chain 1 (svPLA2 homolog)\t\tOxyuranus scutellatus scutellatus (Australian taipan) (Coastal taipan)\t145\n",
      "P00616\tPA2TG_OXYSC\treviewed\tAcidic phospholipase A2 homolog taipoxin gamma chain (svPLA2 homolog)\t\tOxyuranus scutellatus scutellatus (Australian taipan) (Coastal taipan)\t152\n",
      "B7S4N9\tVKT_OXYSC\treviewed\tKunitz-type serine protease inhibitor taicotoxin (Taicatoxin, serine protease inhibitor component) (TCX) (TSPI) (Venom protease inhibitor 1) (Venom protease inhibitor 2)\t\tOxyuranus scutellatus scutellatus (Australian taipan) (Coastal taipan)\t88\n",
      "Q58L96\tFAXC_OXYSU\treviewed\tVenom prothrombin activator oscutarin-C catalytic subunit (vPA) (EC 3.4.21.6) (Factor VII activator) (Snake venom serine protease) (SVSP) (Venom coagulation factor Xa-like protease) [Cleaved into: Oscutarin-C catalytic subunit light chain; Oscutarin-C catalytic subunit heavy chain]\t\tOxyuranus scutellatus (Coastal taipan)\t467\n",
      "P0CG57\tPA2TC_OXYSC\treviewed\tNeutral phospholipase A2 homolog taipoxin beta chain 2 (svPLA2 homolog)\t\tOxyuranus scutellatus scutellatus (Australian taipan) (Coastal taipan)\t118\n",
      "Q4VRI5\tPA21_OXYSC\treviewed\tPhospholipase A2 OS1 (PLA2) (EC 3.1.1.4) (OS5) (Phosphatidylcholine 2-acylhydrolase)\t\tOxyuranus scutellatus scutellatus (Australian taipan) (Coastal taipan)\t154\n",
      "Q7LZG2\tPA2T_OXYSC\treviewed\tPhospholipase A2 taicatoxin (TCX) (svPLA2) (EC 3.1.1.4) (Phosphatidylcholine 2-acylhydrolase) (Fragment)\t\tOxyuranus scutellatus scutellatus (Australian taipan) (Coastal taipan)\t27\n",
      "Q58L91\tFA5V_OXYSU\treviewed\tVenom prothrombin activator oscutarin-C non-catalytic subunit (vPA) (Venom coagulation factor Va-like protein) [Cleaved into: Oscutarin-C non-catalytic subunit heavy chain; Oscutarin-C non-catalytic subunit light chain]\t\tOxyuranus scutellatus (Coastal taipan)\t1459\n",
      "P83228\tVNPB_OXYSC\treviewed\tNatriuretic peptide TNP-b (Taipan natriuretic peptide) (Venom natriuretic peptide OxsSNPb)\t\tOxyuranus scutellatus scutellatus (Australian taipan) (Coastal taipan)\t111\n",
      "P0DKT7\tPA2CA_OXYSA\treviewed\tBasic phospholipase A2 cannitoxin alpha chain (svPLA2) (EC 3.1.1.4) (Phosphatidylcholine 2-acylhydrolase) (Fragment)\t\tOxyuranus scutellatus canni (Papuan taipan)\t20\n",
      "Q58L95\tFAXC_OXYMI\treviewed\tVenom prothrombin activator omicarin-C catalytic subunit (vPA) (EC 3.4.21.6) (Venom coagulation factor Xa-like protease) [Cleaved into: Omicarin-C catalytic subunit light chain; Omicarin-C catalytic subunit heavy chain]\t\tOxyuranus microlepidotus (Inland taipan) (Diemenia microlepidota)\t467\n",
      "Q45Z11\t3S11_OXYSC\treviewed\tShort neurotoxin 1 (SNTX-1) (Toxin 3)\t\tOxyuranus scutellatus scutellatus (Australian taipan) (Coastal taipan)\t83\n",
      "Q45Z42\tPA2PA_OXYMI\treviewed\tBasic phospholipase A2 paradoxin-like alpha chain (svPLA2) (EC 3.1.1.4) (PLA-4) (Phosphatidylcholine 2-acylhydrolase)\t\tOxyuranus microlepidotus (Inland taipan) (Diemenia microlepidota)\t146\n",
      "Q58L90\tFA5V_OXYMI\treviewed\tVenom prothrombin activator omicarin-C non-catalytic subunit (vPA) (Venom coagulation factor Va-like protein) [Cleaved into: Omicarin-C non-catalytic subunit heavy chain; Omicarin-C non-catalytic subunit light chain]\t\tOxyuranus microlepidotus (Inland taipan) (Diemenia microlepidota)\t1460\n",
      "Q4JHE3\tOXLA_OXYSC\treviewed\tL-amino-acid oxidase (LAAO) (LAO) (EC 1.4.3.2)\t\tOxyuranus scutellatus scutellatus (Australian taipan) (Coastal taipan)\t517\n",
      "P83225\tVNPA_OXYSC\treviewed\tNatriuretic peptide TNP-a (Taipan natriuretic peptide) (Venom natriuretic peptide OxsSNPa)\t\tOxyuranus scutellatus scutellatus (Australian taipan) (Coastal taipan)\t35\n",
      "P0DKT9\tPA2CC_OXYSA\treviewed\tNeutral phospholipase A2 homolog cannitoxin beta chain 2 (svPLA2 homolog) (Fragment)\t\tOxyuranus scutellatus canni (Papuan taipan)\t40\n",
      "P0CB06\t3S12_OXYSC\treviewed\tShort neurotoxin 2 (SNTX-2)\t\tOxyuranus scutellatus scutellatus (Australian taipan) (Coastal taipan)\t62\n",
      "P0DKU0\tPA2CG_OXYSA\treviewed\tAcidic phospholipase A2 homolog cannitoxin gamma chain (svPLA2 homolog) (Fragment)\t\tOxyuranus scutellatus canni (Papuan taipan)\t30\n",
      "P0CJ35\t3L2L_OXYSC\treviewed\tTaicatoxin, alpha-neurotoxin-like component (TCX, alpha-neurotoxin-like component) (Fragment)\t\tOxyuranus scutellatus scutellatus (Australian taipan) (Coastal taipan)\t28\n",
      "Q45Z46\tPA2PB_OXYMI\treviewed\tNeutral phospholipase A2 paradoxin-like beta chain (svPLA2) (Beta paradoxin-like)\t\tOxyuranus microlepidotus (Inland taipan) (Diemenia microlepidota)\t145\n",
      "P83952\tWAPA_OXYMI\treviewed\tOmwaprin-a (Omwaprin) (Oxywaprin-a)\t\tOxyuranus microlepidotus (Inland taipan) (Diemenia microlepidota)\t50\n",
      "D2YVH7\tLECM_OXYSU\treviewed\tC-type lectin mannose-binding isoform (CTL) (Venom C-type lectin mannose-binding isoform 1)\t\tOxyuranus scutellatus (Coastal taipan)\t158\n",
      "P83227\tVNPB_OXYMI\treviewed\tNatriuretic peptide TNP-b (Taipan natriuretic peptide) (Venom natriuretic peptide OxsSNPb)\t\tOxyuranus microlepidotus (Inland taipan) (Diemenia microlepidota)\t35\n",
      "Q4QXK8\tQ4QXK8_OXYSC\tunreviewed\tCarboxylate synthase (Fragment)\t\tOxyuranus scutellatus scutellatus (Australian taipan) (Coastal taipan)\t214\n",
      "Q1H622\tQ1H622_OXYSC\tunreviewed\tCytochrome c oxidase subunit 1 (EC 7.1.1.9) (Fragment)\t\tOxyuranus scutellatus scutellatus (Australian taipan) (Coastal taipan)\t247\n",
      "Q4VRH5\tQ4VRH5_OXYSC\tunreviewed\tILEI domain-containing protein\t\tOxyuranus scutellatus scutellatus (Australian taipan) (Coastal taipan)\t158\n",
      "Q4VRH9\tQ4VRH9_OXYSC\tunreviewed\tProtein disulfide-isomerase (EC 5.3.4.1)\t\tOxyuranus scutellatus scutellatus (Australian taipan) (Coastal taipan)\t514\n",
      "Q4VRH2\tQ4VRH2_OXYSC\tunreviewed\tPAM2 domain-containing protein\t\tOxyuranus scutellatus scutellatus (Australian taipan) (Coastal taipan)\t124\n",
      "Q4VRI4\tQ4VRI4_OXYSC\tunreviewed\tOS6\t\tOxyuranus scutellatus scutellatus (Australian taipan) (Coastal taipan)\t146\n",
      "Q4VRH6\tQ4VRH6_OXYSC\tunreviewed\tGOLD domain-containing protein\t\tOxyuranus scutellatus scutellatus (Australian taipan) (Coastal taipan)\t136\n",
      "Q1H621\tQ1H621_OXYSC\tunreviewed\tCytochrome c oxidase subunit 2 (Fragment)\t\tOxyuranus scutellatus scutellatus (Australian taipan) (Coastal taipan)\t222\n",
      "Q4QXL7\tQ4QXL7_OXYSC\tunreviewed\tNADH-ubiquinone oxidoreductase chain 4L (EC 7.1.1.2) (Fragment)\t\tOxyuranus scutellatus scutellatus (Australian taipan) (Coastal taipan)\t91\n",
      "Q4QXL3\tQ4QXL3_OXYSC\tunreviewed\tVenom oncogene (Fragment)\t\tOxyuranus scutellatus scutellatus (Australian taipan) (Coastal taipan)\t204\n",
      "Q4QXL5\tQ4QXL5_OXYSC\tunreviewed\tHSP 90 (Fragment)\t\tOxyuranus scutellatus scutellatus (Australian taipan) (Coastal taipan)\t468\n",
      "Q4VRH3\tQ4VRH3_OXYSC\tunreviewed\tLecithin retinol acyltransferase\t\tOxyuranus scutellatus scutellatus (Australian taipan) (Coastal taipan)\t511\n",
      "Q4QXK7\tQ4QXK7_OXYSC\tunreviewed\tRibonuclease (EC 3.1.26.4) (Fragment)\t\tOxyuranus scutellatus scutellatus (Australian taipan) (Coastal taipan)\t211\n",
      "Q64G15\tQ64G15_OXYSC\tunreviewed\tG protein-binding protein (Fragment)\t\tOxyuranus scutellatus scutellatus (Australian taipan) (Coastal taipan)\t199\n",
      "Q1H620\tQ1H620_OXYSC\tunreviewed\tCytochrome c oxidase subunit 3 (Fragment)\t\tOxyuranus scutellatus scutellatus (Australian taipan) (Coastal taipan)\t221\n",
      "Q4VRH8\tQ4VRH8_OXYSC\tunreviewed\tHSP70\t\tOxyuranus scutellatus scutellatus (Australian taipan) (Coastal taipan)\t635\n",
      "Q64G13\tQ64G13_OXYSC\tunreviewed\tAlpha actin (Fragment)\t\tOxyuranus scutellatus scutellatus (Australian taipan) (Coastal taipan)\t225\n",
      "Q64G16\tQ64G16_OXYSC\tunreviewed\tG protein-binding protein (Fragment)\t\tOxyuranus scutellatus scutellatus (Australian taipan) (Coastal taipan)\t197\n",
      "Q4QXL4\tQ4QXL4_OXYSC\tunreviewed\tEF1 (Fragment)\t\tOxyuranus scutellatus scutellatus (Australian taipan) (Coastal taipan)\t111\n",
      "Q4QXL6\tQ4QXL6_OXYSC\tunreviewed\tHSP 90 (Fragment)\t\tOxyuranus scutellatus scutellatus (Australian taipan) (Coastal taipan)\t191\n",
      "Q64G12\tQ64G12_OXYSC\tunreviewed\tBeta actin (Fragment)\t\tOxyuranus scutellatus scutellatus (Australian taipan) (Coastal taipan)\t191\n",
      "Q4QXL2\tQ4QXL2_OXYSC\tunreviewed\tVenom oncogene (Fragment)\t\tOxyuranus scutellatus scutellatus (Australian taipan) (Coastal taipan)\t233\n",
      "Q4VRI3\tQ4VRI3_OXYSC\tunreviewed\tOS7\t\tOxyuranus scutellatus scutellatus (Australian taipan) (Coastal taipan)\t146\n",
      "Q64G14\tQ64G14_OXYSC\tunreviewed\tCalglandulin\t\tOxyuranus scutellatus scutellatus (Australian taipan) (Coastal taipan)\t172\n",
      "Q64G11\tQ64G11_OXYSC\tunreviewed\tDolichyl-diphosphooligosaccharide--protein glycosyltransferase subunit 1 (Fragment)\t\tOxyuranus scutellatus scutellatus (Australian taipan) (Coastal taipan)\t201\n",
      "Q3SAY3\tQ3SAY3_OXYSU\tunreviewed\tATP synthase subunit e, mitochondrial (Fragment)\t\tOxyuranus scutellatus (Coastal taipan)\t50\n",
      "Q38R58\tQ38R58_OXYSU\tunreviewed\tNADH dehydrogenase subunit 4 (EC 7.1.1.2) (NADH-ubiquinone oxidoreductase chain 4) (Fragment)\tND4\tOxyuranus scutellatus (Coastal taipan)\t214\n",
      "A8HDC4\tA8HDC4_OXYSU\tunreviewed\tCytochrome b (Fragment)\t\tOxyuranus scutellatus (Coastal taipan)\t242\n",
      "B5KLB3\tB5KLB3_OXYSU\tunreviewed\tVespryn isoform 1\t\tOxyuranus scutellatus (Coastal taipan)\t190\n",
      "Q3SAY1\tQ3SAY1_OXYSU\tunreviewed\tSWI/SNF-related matrix-associated actin-dependent regulator of chromatin (Fragment)\t\tOxyuranus scutellatus (Coastal taipan)\t149\n",
      "A0A0S2C759\tA0A0S2C759_OXYSU\tunreviewed\tComplex III subunit 3 (Complex III subunit III) (Cytochrome b) (Cytochrome b-c1 complex subunit 3) (Ubiquinol-cytochrome-c reductase complex cytochrome b subunit) (Fragment)\tcytb\tOxyuranus scutellatus (Coastal taipan)\t198\n",
      "Q3SAY6\tQ3SAY6_OXYSU\tunreviewed\tKIAA0731-like protein (Fragment)\t\tOxyuranus scutellatus (Coastal taipan)\t127\n",
      "Q3SAZ2\tQ3SAZ2_OXYSU\tunreviewed\tPolyA binding protein (Fragment)\t\tOxyuranus scutellatus (Coastal taipan)\t306\n",
      "Q3SAZ5\tQ3SAZ5_OXYSU\tunreviewed\tMitochondrial protein L47-like protein (Fragment)\t\tOxyuranus scutellatus (Coastal taipan)\t82\n",
      "Q3SAY8\tQ3SAY8_OXYSU\tunreviewed\tDnaJ-like protein (Fragment)\t\tOxyuranus scutellatus (Coastal taipan)\t148\n",
      "Q3SAY0\tQ3SAY0_OXYSU\tunreviewed\tKIAA0853-like protein (Fragment)\t\tOxyuranus scutellatus (Coastal taipan)\t186\n",
      "Q3SAZ0\tQ3SAZ0_OXYSU\tunreviewed\tAdenine nucleotide translocator (Fragment)\t\tOxyuranus scutellatus (Coastal taipan)\t148\n",
      "Q45Z53\tQ45Z53_OXYSU\tunreviewed\tBeta taipoxin variant 1\t\tOxyuranus scutellatus (Coastal taipan)\t145\n",
      "Q5MYC7\tQ5MYC7_OXYSU\tunreviewed\tNADH dehydrogenase subunit 4 (EC 7.1.1.2) (NADH-ubiquinone oxidoreductase chain 4) (Fragment)\tND4\tOxyuranus scutellatus (Coastal taipan)\t215\n",
      "Q3SAZ8\tQ3SAZ8_OXYSU\tunreviewed\t40S ribosomal protein S18 (Fragment)\t\tOxyuranus scutellatus (Coastal taipan)\t95\n",
      "B4YHF1\tB4YHF1_OXYSU\tunreviewed\tC-mos (Fragment)\t\tOxyuranus scutellatus (Coastal taipan)\t210\n",
      "Q4QXL0\tQ4QXL0_OXYSC\tunreviewed\tGolgi-associated protein (Fragment)\t\tOxyuranus scutellatus scutellatus (Australian taipan) (Coastal taipan)\t163\n",
      "Q4VRH7\tQ4VRH7_OXYSC\tunreviewed\tElongation factor 2\t\tOxyuranus scutellatus scutellatus (Australian taipan) (Coastal taipan)\t406\n",
      "Q4VRI7\tQ4VRI7_OXYSC\tunreviewed\tAlpha taipoxin-2\t\tOxyuranus scutellatus scutellatus (Australian taipan) (Coastal taipan)\t146\n",
      "Q64G10\tQ64G10_OXYSC\tunreviewed\tDolichyl-diphosphooligosaccharide--protein glycosyltransferase subunit 1 (Ribophorin I) (Ribophorin-1) (Fragment)\t\tOxyuranus scutellatus scutellatus (Australian taipan) (Coastal taipan)\t142\n",
      "Q4VRH1\tQ4VRH1_OXYSC\tunreviewed\tCytochrome c oxidase subunit IV\t\tOxyuranus scutellatus scutellatus (Australian taipan) (Coastal taipan)\t170\n",
      "Q4QXK9\tQ4QXK9_OXYSC\tunreviewed\tCarboxypeptidase (Fragment)\t\tOxyuranus scutellatus scutellatus (Australian taipan) (Coastal taipan)\t238\n",
      "Q4VRH4\tQ4VRH4_OXYSC\tunreviewed\tTrafficking protein particle complex subunit\t\tOxyuranus scutellatus scutellatus (Australian taipan) (Coastal taipan)\t181\n",
      "K7RW47\tK7RW47_OXYMI\tunreviewed\tCoagulation factor Xa (EC 3.4.21.6) (Fragment)\t\tOxyuranus microlepidotus (Inland taipan) (Diemenia microlepidota)\t443\n",
      "D2YVL8\tD2YVL8_OXYMI\tunreviewed\tVenom C-type lectin mannose binding isoform 3 variant 2\t\tOxyuranus microlepidotus (Inland taipan) (Diemenia microlepidota)\t172\n",
      "Q9PTC8\tQ9PTC8_OXYMI\tunreviewed\tPhospholipase A2 inhibitor\t\tOxyuranus microlepidotus (Inland taipan) (Diemenia microlepidota)\t200\n",
      "Q9PRI2\tQ9PRI2_OXYMI\tunreviewed\tPhospholipase A2 inhibitor\t\tOxyuranus microlepidotus (Inland taipan) (Diemenia microlepidota)\t202\n",
      "Q45Z41\tQ45Z41_OXYMI\tunreviewed\tPLA-5\t\tOxyuranus microlepidotus (Inland taipan) (Diemenia microlepidota)\t146\n",
      "B5G6F6\tB5G6F6_OXYMI\tunreviewed\tSNTX-1\t\tOxyuranus microlepidotus (Inland taipan) (Diemenia microlepidota)\t83\n",
      "Q45Z43\tQ45Z43_OXYMI\tunreviewed\tPLA-3\t\tOxyuranus microlepidotus (Inland taipan) (Diemenia microlepidota)\t146\n",
      "D2YVL7\tD2YVL7_OXYMI\tunreviewed\tVenom C-type lectin mannose binding isoform 3 variant 1\t\tOxyuranus microlepidotus (Inland taipan) (Diemenia microlepidota)\t172\n",
      "B4YHJ4\tB4YHJ4_OXYMI\tunreviewed\tMyosin heavy chain (Fragment)\tMYH2\tOxyuranus microlepidotus (Inland taipan) (Diemenia microlepidota)\t46\n",
      "D2YVJ0\tD2YVJ0_OXYMI\tunreviewed\tVenom C-type lectin mannose binding isoform 1\t\tOxyuranus microlepidotus (Inland taipan) (Diemenia microlepidota)\t158\n",
      "D2YVL6\tD2YVL6_OXYMI\tunreviewed\tVenom C-type lectin mannose binding isoform 3 variant 3\t\tOxyuranus microlepidotus (Inland taipan) (Diemenia microlepidota)\t172\n",
      "B5KFV6\tB5KFV6_OXYMI\tunreviewed\tMicrolepidotease-1\t\tOxyuranus microlepidotus (Inland taipan) (Diemenia microlepidota)\t612\n",
      "Q45Z44\tQ45Z44_OXYMI\tunreviewed\tPLA-2\t\tOxyuranus microlepidotus (Inland taipan) (Diemenia microlepidota)\t146\n",
      "B2CAY2\tB2CAY2_OXYMI\tunreviewed\tOocyte maturation factor mos (Fragment)\tc-mos\tOxyuranus microlepidotus (Inland taipan) (Diemenia microlepidota)\t201\n",
      "Q9PTB9\tQ9PTB9_OXYMI\tunreviewed\tPhospholipase A2 inhibitor\t\tOxyuranus microlepidotus (Inland taipan) (Diemenia microlepidota)\t202\n",
      "Q45Z45\tQ45Z45_OXYMI\tunreviewed\tPLA-1\t\tOxyuranus microlepidotus (Inland taipan) (Diemenia microlepidota)\t154\n",
      "B5KL29\tVKT3_OXYSC\treviewed\tKunitz-type serine protease inhibitor scutellin-3\t\tOxyuranus scutellatus scutellatus (Australian taipan) (Coastal taipan)\t83\n",
      "Q6ITB4\tVKT2_OXYMI\treviewed\tKunitz-type serine protease inhibitor microlepidin-2\t\tOxyuranus microlepidotus (Inland taipan) (Diemenia microlepidota)\t83\n",
      "B5KL28\tVKT4_OXYMI\treviewed\tKunitz-type serine protease inhibitor microlepidin-4\t\tOxyuranus microlepidotus (Inland taipan) (Diemenia microlepidota)\t83\n",
      "Q6ITB7\tVKT1_OXYSC\treviewed\tKunitz-type serine protease inhibitor scutellin-1\t\tOxyuranus scutellatus scutellatus (Australian taipan) (Coastal taipan)\t83\n",
      "P83229\tVNPB_OXYSA\treviewed\tNatriuretic peptide TNP-b (Taipan natriuretic peptide) (Venom natriuretic peptide OxsSNPb)\t\tOxyuranus scutellatus canni (Papuan taipan)\t35\n",
      "B5L5Q6\tVKT5_OXYMI\treviewed\tKunitz-type serine protease inhibitor microlepidin-5\t\tOxyuranus microlepidotus (Inland taipan) (Diemenia microlepidota)\t79\n",
      "B5L5M9\tWAPC_OXYMI\treviewed\tOmwaprin-c (Oxywaprin-c)\t\tOxyuranus microlepidotus (Inland taipan) (Diemenia microlepidota)\t74\n",
      "Q6ITB5\tVKT1_OXYMI\treviewed\tKunitz-type serine protease inhibitor microlepidin-1\t\tOxyuranus microlepidotus (Inland taipan) (Diemenia microlepidota)\t83\n",
      "P83224\tVNPA_OXYMI\treviewed\tNatriuretic peptide TNP-a (Taipan natriuretic peptide) (Venom natriuretic peptide OxsSNPa)\t\tOxyuranus microlepidotus (Inland taipan) (Diemenia microlepidota)\t35\n",
      "P83226\tVNPA_OXYSA\treviewed\tNatriuretic peptide TNP-a (Taipan natriuretic peptide) (Venom natriuretic peptide OxsSNPa)\t\tOxyuranus scutellatus canni (Papuan taipan)\t35\n",
      "B5G6G7\tWAPB_OXYMI\treviewed\tOmwaprin-b (Oxywaprin-b)\t\tOxyuranus microlepidotus (Inland taipan) (Diemenia microlepidota)\t74\n",
      "Q6ITB6\tVKT2_OXYSC\treviewed\tKunitz-type serine protease inhibitor scutellin-2\t\tOxyuranus scutellatus scutellatus (Australian taipan) (Coastal taipan)\t83\n",
      "B5KL30\tVKT4_OXYSC\treviewed\tKunitz-type serine protease inhibitor scutellin-4\t\tOxyuranus scutellatus scutellatus (Australian taipan) (Coastal taipan)\t83\n",
      "Q3SAF7\tVNPE_OXYMI\treviewed\tNatriuretic peptide OmNP-e (Fragment)\t\tOxyuranus microlepidotus (Inland taipan) (Diemenia microlepidota)\t40\n",
      "P83230\tVNPC_OXYMI\treviewed\tPeptide TNP-c (Taipan natriuretic peptide) (Venom natriuretic peptide OxsSNPc)\t\tOxyuranus microlepidotus (Inland taipan) (Diemenia microlepidota)\t39\n",
      "Q3SAF8\tVNPD_OXYMI\treviewed\tNatriuretic peptide OmNP-d (Fragment)\t\tOxyuranus microlepidotus (Inland taipan) (Diemenia microlepidota)\t40\n",
      "P83231\tVNPC_OXYSA\treviewed\tNatriuretic peptide TNP-c (Taipan natriuretic peptide) (Venom natriuretic peptide OxsSNPc)\t\tOxyuranus scutellatus canni (Papuan taipan)\t39\n",
      "Q3SAX8\tVNPD_OXYSC\treviewed\tNatriuretic peptide OsNP-d (Fragment)\t\tOxyuranus scutellatus scutellatus (Australian taipan) (Coastal taipan)\t45\n",
      "B5G6G8\tWAPA_OXYSC\treviewed\tScuwaprin-a\t\tOxyuranus scutellatus scutellatus (Australian taipan) (Coastal taipan)\t75\n",
      "P0DJ63\tVKT_OXYMI\treviewed\tKunitz-type serine protease inhibitor OMI (Fragment)\t\tOxyuranus microlepidotus (Inland taipan) (Diemenia microlepidota)\t17\n",
      "B5KL27\tVKT3_OXYMI\treviewed\tKunitz-type serine protease inhibitor microlepidin-3\t\tOxyuranus microlepidotus (Inland taipan) (Diemenia microlepidota)\t83\n",
      "Q3I5F4\tNGFV_OXYSC\treviewed\tVenom nerve growth factor (v-NGF) (vNGF)\t\tOxyuranus scutellatus scutellatus (Australian taipan) (Coastal taipan)\t243\n",
      "B5L5Q3\tIVBS5_OXYSC\treviewed\tScutellin-5\t\tOxyuranus scutellatus scutellatus (Australian taipan) (Coastal taipan)\t79\n",
      "Q3HXZ1\tNGFV1_OXYMI\treviewed\tVenom nerve growth factor 1 (v-NGF-1) (vNGF-1)\t\tOxyuranus microlepidotus (Inland taipan) (Diemenia microlepidota)\t243\n",
      "P0DKT8\tPA2CB_OXYSA\treviewed\tNeutral phospholipase A2 homolog cannitoxin beta chain 1 (svPLA2 homolog) (Fragment)\t\tOxyuranus scutellatus canni (Papuan taipan)\t10\n",
      "Q3HXZ0\tNGFV2_OXYMI\treviewed\tVenom nerve growth factor 2 (v-NGF-2) (vNGF-2)\t\tOxyuranus microlepidotus (Inland taipan) (Diemenia microlepidota)\t243\n",
      "A5H9L3\tA5H9L3_OXYSU\tunreviewed\tNADH dehydrogenase subunit 4 (EC 7.1.1.2) (NADH-ubiquinone oxidoreductase chain 4) (Fragment)\tND4\tOxyuranus scutellatus (Coastal taipan)\t214\n",
      "Q38R62\tQ38R62_OXYMI\tunreviewed\tNADH dehydrogenase subunit 4 (EC 7.1.1.2) (NADH-ubiquinone oxidoreductase chain 4) (Fragment)\tND4 NADH4\tOxyuranus microlepidotus (Inland taipan) (Diemenia microlepidota)\t214\n",
      "A5H9L4\tA5H9L4_OXYSU\tunreviewed\tNADH dehydrogenase subunit 4 (EC 7.1.1.2) (NADH-ubiquinone oxidoreductase chain 4) (Fragment)\tND4\tOxyuranus scutellatus (Coastal taipan)\t214\n",
      "Q45Z49\tQ45Z49_OXYSU\tunreviewed\tPLA-5\t\tOxyuranus scutellatus (Coastal taipan)\t146\n",
      "Q3SAZ6\tQ3SAZ6_OXYSU\tunreviewed\tMitochondrial protein L12-like protein (Fragment)\t\tOxyuranus scutellatus (Coastal taipan)\t92\n",
      "Q3SAY4\tQ3SAY4_OXYSU\tunreviewed\tNeublin-like protein (Fragment)\t\tOxyuranus scutellatus (Coastal taipan)\t291\n",
      "Q9PTC1\tQ9PTC1_OXYSU\tunreviewed\tPhospholipase A2 inhibitor\t\tOxyuranus scutellatus (Coastal taipan)\t202\n",
      "A6MJH2\tA6MJH2_OXYSU\tunreviewed\tDipeptidyl peptidase 4 (EC 3.4.14.5) (Dipeptidyl peptidase 4 membrane form) (Dipeptidyl peptidase 4 soluble form) (Dipeptidyl peptidase IV) (Dipeptidyl peptidase IV membrane form) (Dipeptidyl peptidase IV soluble form) (T-cell activation antigen CD26)\t\tOxyuranus scutellatus (Coastal taipan)\t753\n",
      "Q3SAY5\tQ3SAY5_OXYSU\tunreviewed\tMuscle-derived protein 77-like protein (Fragment)\t\tOxyuranus scutellatus (Coastal taipan)\t177\n",
      "Q3SAX9\tQ3SAX9_OXYSU\tunreviewed\tTranslocation protein SEC63-like protein (Fragment)\t\tOxyuranus scutellatus (Coastal taipan)\t309\n",
      "D2YVH8\tD2YVH8_OXYSU\tunreviewed\tVenom C-type lectin mannose binding isoform 3\t\tOxyuranus scutellatus (Coastal taipan)\t172\n",
      "Q3SAZ7\tQ3SAZ7_OXYSU\tunreviewed\t40S ribosomal protein S20 (Fragment)\t\tOxyuranus scutellatus (Coastal taipan)\t101\n",
      "A0A3S9IHK6\tA0A3S9IHK6_OXYSU\tunreviewed\tNADH dehydrogenase subunit 4 (EC 7.1.1.2) (NADH-ubiquinone oxidoreductase chain 4) (Fragment)\tND4\tOxyuranus scutellatus (Coastal taipan)\t217\n",
      "A0A6M8WN30\tA0A6M8WN30_OXYSU\tunreviewed\tShort wavelength-sensitive opsin 1 (Fragment)\tSWS1\tOxyuranus scutellatus (Coastal taipan)\t79\n",
      "Q45Z48\tQ45Z48_OXYSU\tunreviewed\tPLA-6\t\tOxyuranus scutellatus (Coastal taipan)\t146\n",
      "Q3SAZ3\tQ3SAZ3_OXYSU\tunreviewed\tProteasome endopeptidase complex (EC 3.4.25.1) (Fragment)\t\tOxyuranus scutellatus (Coastal taipan)\t174\n",
      "Q45Z51\tQ45Z51_OXYSU\tunreviewed\tPLA-3\t\tOxyuranus scutellatus (Coastal taipan)\t154\n",
      "Q3SAZ4\tQ3SAZ4_OXYSU\tunreviewed\tCreatine kinase (EC 2.7.3.2) (Fragment)\t\tOxyuranus scutellatus (Coastal taipan)\t165\n",
      "B5KFV5\tB5KFV5_OXYSU\tunreviewed\tScutellatease-1\t\tOxyuranus scutellatus (Coastal taipan)\t612\n",
      "B4YHJ5\tB4YHJ5_OXYSU\tunreviewed\tMyosin heavy chain (Fragment)\tMYH2\tOxyuranus scutellatus (Coastal taipan)\t37\n",
      "Q3SAY9\tQ3SAY9_OXYSU\tunreviewed\tAdaptor-related protein complex delta subunit (Fragment)\t\tOxyuranus scutellatus (Coastal taipan)\t150\n",
      "D2YVI0\tD2YVI0_OXYSU\tunreviewed\tVenom C-type lectin mannose binding isoform 5 variant 2\t\tOxyuranus scutellatus (Coastal taipan)\t157\n",
      "Q3SAY2\tQ3SAY2_OXYSU\tunreviewed\tPre-mRNA cleavage complex II protein-like protein (Fragment)\t\tOxyuranus scutellatus (Coastal taipan)\t300\n",
      "Q78CF8\tQ78CF8_OXYSU\tunreviewed\tPhospholipase A2 inhibitor\t\tOxyuranus scutellatus (Coastal taipan)\t202\n",
      "Q3SB01\tQ3SB01_OXYSU\tunreviewed\t60S ribosomal protein P1 (Fragment)\t\tOxyuranus scutellatus (Coastal taipan)\t68\n",
      "Q3SAZ9\tQ3SAZ9_OXYSU\tunreviewed\t40S ribosomal protein S8 (Fragment)\t\tOxyuranus scutellatus (Coastal taipan)\t191\n",
      "Q5MYC8\tQ5MYC8_OXYSU\tunreviewed\tComplex III subunit 3 (Complex III subunit III) (Cytochrome b) (Cytochrome b-c1 complex subunit 3) (Ubiquinol-cytochrome-c reductase complex cytochrome b subunit) (Fragment)\tcytb\tOxyuranus scutellatus (Coastal taipan)\t224\n",
      "Q3SAZ1\tQ3SAZ1_OXYSU\tunreviewed\tSignal sequence receptor subunit delta (Translocon-associated protein subunit delta)\t\tOxyuranus scutellatus (Coastal taipan)\t149\n",
      "Q9PTC9\tQ9PTC9_OXYSU\tunreviewed\tPhospholipase A2 inhibitor\t\tOxyuranus scutellatus (Coastal taipan)\t200\n",
      "Q3SAY7\tQ3SAY7_OXYSU\tunreviewed\tHelix-loop-helix transcription factor-like protein (Fragment)\t\tOxyuranus scutellatus (Coastal taipan)\t82\n",
      "D2YVI1\tD2YVI1_OXYSU\tunreviewed\tVenom C-type lectin mannose binding isoform 4\t\tOxyuranus scutellatus (Coastal taipan)\t165\n",
      "Q3SB00\tQ3SB00_OXYSU\tunreviewed\t40S ribosomal protein S2 (Fragment)\t\tOxyuranus scutellatus (Coastal taipan)\t253\n",
      "Q45Z50\tQ45Z50_OXYSU\tunreviewed\tPLA-4\t\tOxyuranus scutellatus (Coastal taipan)\t154\n",
      "Q3SB02\tQ3SB02_OXYSU\tunreviewed\t60S ribosomal protein L13a (Fragment)\t\tOxyuranus scutellatus (Coastal taipan)\t186\n",
      "B5KLB4\tB5KLB4_OXYSU\tunreviewed\tVespryn isoform 2\t\tOxyuranus scutellatus (Coastal taipan)\t190\n",
      "D2YVH9\tD2YVH9_OXYSU\tunreviewed\tVenom C-type lectin mannose binding isoform 5 variant 1\t\tOxyuranus scutellatus (Coastal taipan)\t157\n",
      "A0A3S9IHJ7\tA0A3S9IHJ7_OXYSU\tunreviewed\tComplex III subunit 3 (Complex III subunit III) (Cytochrome b) (Cytochrome b-c1 complex subunit 3) (Ubiquinol-cytochrome-c reductase complex cytochrome b subunit) (Fragment)\tcyt b\tOxyuranus scutellatus (Coastal taipan)\t129\n",
      "A7X4R0\t3L2O2_OXYMI\treviewed\tLong neurotoxin 3FTx-Oxy2\t\tOxyuranus microlepidotus (Inland taipan) (Diemenia microlepidota)\t92\n",
      "A8HDK2\t3SX3_OXYSC\treviewed\tShort neurotoxin 3 (SNTX-3) (Three-finger toxin) (3FTx)\t\tOxyuranus scutellatus scutellatus (Australian taipan) (Coastal taipan)\t79\n",
      "Q4VRI0\t3SXS_OXYSC\treviewed\tScutelatoxin (Three-finger toxin) (3FTx)\t\tOxyuranus scutellatus scutellatus (Australian taipan) (Coastal taipan)\t79\n",
      "A7X4Q3\t3L2O1_OXYMI\treviewed\tLong neurotoxin 3FTx-Oxy1\t\tOxyuranus microlepidotus (Inland taipan) (Diemenia microlepidota)\t92\n",
      "A7X4R5\t3S13_OXYMI\treviewed\tShort neurotoxin 3FTx-Oxy3\t\tOxyuranus microlepidotus (Inland taipan) (Diemenia microlepidota)\t83\n",
      "A7X4T2\t3SX6_OXYMI\treviewed\tThree-finger toxin 3FTx-Oxy6\t\tOxyuranus microlepidotus (Inland taipan) (Diemenia microlepidota)\t81\n",
      "E3P6N6\tCYT_OXYSC\treviewed\tCystatin\t\tOxyuranus scutellatus scutellatus (Australian taipan) (Coastal taipan)\t141\n",
      "Q3SB14\tCALGL_OXYMI\treviewed\tCalglandulin\t\tOxyuranus microlepidotus (Inland taipan) (Diemenia microlepidota)\t156\n",
      "A8HDK8\t3L22_OXYMI\treviewed\tLong neurotoxin 2 (LNTX-2)\t\tOxyuranus microlepidotus (Inland taipan) (Diemenia microlepidota)\t92\n",
      "A7X4S0\t3S14_OXYMI\treviewed\tShort neurotoxin 3FTx-Oxy4\t\tOxyuranus microlepidotus (Inland taipan) (Diemenia microlepidota)\t83\n",
      "Q3SB15\tCALGL_OXYSC\treviewed\tCalglandulin\t\tOxyuranus scutellatus scutellatus (Australian taipan) (Coastal taipan)\t156\n",
      "E3P6N5\tCYT_OXYMI\treviewed\tCystatin\t\tOxyuranus microlepidotus (Inland taipan) (Diemenia microlepidota)\t141\n",
      "A8HDK7\t3L21_OXYMI\treviewed\tLong neurotoxin 1 (LNTX-1)\t\tOxyuranus microlepidotus (Inland taipan) (Diemenia microlepidota)\t92\n",
      "Q3SB07\tCRVP_OXYSC\treviewed\tCysteine-rich venom protein pseudechetoxin-like (CRVP)\t\tOxyuranus scutellatus scutellatus (Australian taipan) (Coastal taipan)\t238\n",
      "Q3SB06\tCRVP_OXYMI\treviewed\tCysteine-rich venom protein pseudechetoxin-like (CRVP) (Cysteine-rich secretory protein OXY1) (CRISP-OXY1)\t\tOxyuranus microlepidotus (Inland taipan) (Diemenia microlepidota)\t238\n",
      "A7X4S7\t3SX5_OXYMI\treviewed\tToxin 3FTx-Oxy5 (Three-finger toxin) (3FTx)\t\tOxyuranus microlepidotus (Inland taipan) (Diemenia microlepidota)\t79\n",
      "A8HDK9\t3L21_OXYSC\treviewed\tLong neurotoxin 1 (LNTX-1)\t\tOxyuranus scutellatus scutellatus (Australian taipan) (Coastal taipan)\t92\n",
      "Q4QXL1\tQ4QXL1_OXYSC\tunreviewed\tCa ATPase (Fragment)\t\tOxyuranus scutellatus scutellatus (Australian taipan) (Coastal taipan)\t123\n",
      "Q7LZG4\tQ7LZG4_OXYSC\tunreviewed\tPhospholipase A2 OS2 (EC 3.1.1.4) (Fragment)\t\tOxyuranus scutellatus scutellatus (Australian taipan) (Coastal taipan)\t26\n",
      "Q38R61\tQ38R61_OXYMI\tunreviewed\tNADH dehydrogenase subunit 4 (EC 7.1.1.2) (NADH-ubiquinone oxidoreductase chain 4) (Fragment)\tND4\tOxyuranus microlepidotus (Inland taipan) (Diemenia microlepidota)\t214\n",
      "Q38R59\tQ38R59_OXYSU\tunreviewed\tNADH dehydrogenase subunit 4 (EC 7.1.1.2) (NADH-ubiquinone oxidoreductase chain 4) (Fragment)\tND4\tOxyuranus scutellatus (Coastal taipan)\t214\n",
      "A6MJH3\tA6MJH3_OXYMI\tunreviewed\tDipeptidyl peptidase 4 (EC 3.4.14.5) (Dipeptidyl peptidase 4 membrane form) (Dipeptidyl peptidase 4 soluble form) (Dipeptidyl peptidase IV) (Dipeptidyl peptidase IV membrane form) (Dipeptidyl peptidase IV soluble form) (T-cell activation antigen CD26)\t\tOxyuranus microlepidotus (Inland taipan) (Diemenia microlepidota)\t753\n",
      "Q9PTC7\tQ9PTC7_OXYMI\tunreviewed\tPhospholipase A2 inhibitor\t\tOxyuranus microlepidotus (Inland taipan) (Diemenia microlepidota)\t201\n",
      "I6LJ72\tI6LJ72_OXYMI\tunreviewed\tC-type lectin mannose binding isoform 5 variant 2\t\tOxyuranus microlepidotus (Inland taipan) (Diemenia microlepidota)\t157\n",
      "I6LJ71\tI6LJ71_OXYMI\tunreviewed\tC-type lectin mannose binding isoform 5 variant 1\t\tOxyuranus microlepidotus (Inland taipan) (Diemenia microlepidota)\t157\n",
      "\n"
     ]
    }
   ],
   "source": [
    "# SOLUTION - EXERCISE 01\n",
    "query = \"organism:taipan\"\n",
    "result = service.search(query)\n",
    "print(result)"
   ]
  },
  {
   "cell_type": "code",
   "execution_count": 8,
   "metadata": {
    "scrolled": true
   },
   "outputs": [
    {
     "name": "stdout",
     "output_type": "stream",
     "text": [
      "Entry\tEntry name\tStatus\tProtein names\tGene names\tOrganism\tLength\n",
      "Q26366\tVG_DROME\treviewed\tProtein vestigial\tvg CG3830\tDrosophila melanogaster (Fruit fly)\t453\n",
      "Q9NBK5\tTRC_DROME\treviewed\tSerine/threonine-protein kinase tricornered (EC 2.7.11.1) (NDR protein kinase) (Serine/threonine-protein kinase 38-like) (Serine/threonine-protein kinase tricorner)\ttrc CG8637\tDrosophila melanogaster (Fruit fly)\t463\n",
      "Q9V9J3\tSRC42_DROME\treviewed\tTyrosine-protein kinase Src42A (EC 2.7.10.2) (Tyrosine-protein kinase Src41) (Dsrc41)\tSrc42A Src41 TK5 CG44128\tDrosophila melanogaster (Fruit fly)\t517\n",
      "Q9VMD9\tTIG_DROME\treviewed\tTiggrin\tTig CG11527\tDrosophila melanogaster (Fruit fly)\t2188\n",
      "P22265\tTSH_DROME\treviewed\tProtein teashirt\ttsh CG1374\tDrosophila melanogaster (Fruit fly)\t954\n",
      "P30052\tSCAL_DROME\treviewed\tProtein scalloped\tsd CG8544\tDrosophila melanogaster (Fruit fly)\t440\n",
      "Q9VT04\tPATH_DROME\treviewed\tProton-coupled amino acid transporter-like protein pathetic\tpath CG3424\tDrosophila melanogaster (Fruit fly)\t471\n",
      "Q95ST2\tWLS_DROME\treviewed\tProtein wntless (Evenness interrupted) (Sprinter)\twls evi srt CG6210\tDrosophila melanogaster (Fruit fly)\t594\n",
      "Q9VU68\tWDR1_DROME\treviewed\tActin-interacting protein 1 (AIP1) (Protein flare)\tflr CG10724\tDrosophila melanogaster (Fruit fly)\t608\n",
      "A8JUV0\tSBNO_DROME\treviewed\tProtein strawberry notch\tsno CG44436\tDrosophila melanogaster (Fruit fly)\t1653\n",
      "O44783\tSPY_DROME\treviewed\tProtein sprouty (Spry)\tsty CG1921\tDrosophila melanogaster (Fruit fly)\t589\n",
      "Q9XZL8\tSRA_DROME\treviewed\tProtein sarah (Protein nebula)\tsra nla CG6072\tDrosophila melanogaster (Fruit fly)\t292\n",
      "Q01070\tESMC_DROME\treviewed\tEnhancer of split mgamma protein (E(spl)mgamma) (Split locus enhancer protein mB)\tE(spl)mgamma-HLH HLHmgamma CG8333\tDrosophila melanogaster (Fruit fly)\t205\n",
      "P07713\tDECA_DROME\treviewed\tProtein decapentaplegic (Protein DPP-C)\tdpp CG9885\tDrosophila melanogaster (Fruit fly)\t588\n",
      "Q8IN94\tOSA_DROME\treviewed\tTrithorax group protein osa (Protein eyelid)\tosa eld CG7467\tDrosophila melanogaster (Fruit fly)\t2716\n",
      "P53624\tMA1A1_DROME\treviewed\tMannosyl-oligosaccharide alpha-1,2-mannosidase IA (EC 3.2.1.113) (Man(9)-alpha-mannosidase) (Mannosidase-1)\talpha-Man-Ia alpha-man-1 mas-1 CG32684\tDrosophila melanogaster (Fruit fly)\t667\n",
      "Q6WV17\tGALT5_DROME\treviewed\tPolypeptide N-acetylgalactosaminyltransferase 5 (pp-GaNTase 5) (EC 2.4.1.41) (Protein-UDP acetylgalactosaminyltransferase 5) (UDP-GalNAc:polypeptide N-acetylgalactosaminyltransferase 5)\tPgant5 CG31651\tDrosophila melanogaster (Fruit fly)\t630\n",
      "Q8MVS5\tGLT35_DROME\treviewed\tPolypeptide N-acetylgalactosaminyltransferase 35A (EC 2.4.1.41) (Protein l(2)35Aa) (Protein-UDP acetylgalactosaminyltransferase 35A) (UDP-GalNAc:polypeptide N-acetylgalactosaminyltransferase 35A) (pp-GaNTase 35A) (dGalNAc-T1)\tPgant35A CG7480\tDrosophila melanogaster (Fruit fly)\t632\n",
      "O46339\tHTH_DROME\treviewed\tHomeobox protein homothorax (Homeobox protein dorsotonals)\thth dtl CG17117\tDrosophila melanogaster (Fruit fly)\t487\n",
      "Q7KHG2\tJING_DROME\treviewed\tZinc finger protein jing (Zinc finger protein rhumba)\tjing rhumba CG9397 CG9403\tDrosophila melanogaster (Fruit fly)\t1486\n",
      "Q6WV19\tGALT2_DROME\treviewed\tPolypeptide N-acetylgalactosaminyltransferase 2 (pp-GaNTase 2) (EC 2.4.1.41) (Protein-UDP acetylgalactosaminyltransferase 2) (UDP-GalNAc:polypeptide N-acetylgalactosaminyltransferase 2)\tPgant2 CG3254\tDrosophila melanogaster (Fruit fly)\t633\n",
      "P25932\tESCA_DROME\treviewed\tProtein escargot (Protein fleabag)\tesg flg CG3758\tDrosophila melanogaster (Fruit fly)\t470\n",
      "Q24247\tITA1_DROME\treviewed\tIntegrin alpha-PS1 (Position-specific antigen subunit alpha-1) (Protein multiple edematous wings) [Cleaved into: Integrin alpha-PS1 heavy chain; Integrin alpha-PS1 light chain]\tmew CG1771\tDrosophila melanogaster (Fruit fly)\t1146\n",
      "Q9VFG8\tKIBRA_DROME\treviewed\tProtein kibra\tkibra CG33967\tDrosophila melanogaster (Fruit fly)\t1288\n",
      "Q8MV48\tGALT7_DROME\treviewed\tN-acetylgalactosaminyltransferase 7 (EC 2.4.1.41) (Protein-UDP acetylgalactosaminyltransferase 7) (UDP-GalNAc:polypeptide N-acetylgalactosaminyltransferase 7) (pp-GaNTase 7) (dGalNAc-T2)\tPgant7 GalNAc-T2 CG6394\tDrosophila melanogaster (Fruit fly)\t591\n",
      "Q27934\tPHYL_DROME\treviewed\tProtein phyllopod\tphyl CG10108\tDrosophila melanogaster (Fruit fly)\t400\n",
      "Q9VWB9\tTHADA_DROME\treviewed\tThyroid adenoma-associated protein homolog\tTHADA CG15618\tDrosophila melanogaster (Fruit fly)\t1746\n",
      "Q9V6U8\tUBA3_DROME\treviewed\tNedd8-activating enzyme E1 catalytic subunit (EC 6.2.1.64) (Ubiquitin-activating enzyme 3 homolog)\tUba3 CG13343\tDrosophila melanogaster (Fruit fly)\t450\n",
      "Q9VSF3\tUBC2M_DROME\treviewed\tNedd8-conjugating enzyme UbcE2M (EC 2.3.2.34) (Nedd8 carrier protein)\tUbcE2M Ubc12 CG7375\tDrosophila melanogaster (Fruit fly)\t181\n",
      "Q9W3W5\tWIF1_DROME\treviewed\tProtein shifted (WIF-1-like protein)\tshf CG3135\tDrosophila melanogaster (Fruit fly)\t456\n",
      "Q9GPH8\tSNMP2_MANSE\treviewed\tSensory neuron membrane protein 2 (SNMP2-Msex)\t\tManduca sexta (Tobacco hawkmoth) (Tobacco hornworm)\t519\n",
      "Q9V3I8\tOGG1_DROME\treviewed\tN-glycosylase/DNA lyase (dOgg1) [Includes: 8-oxoguanine DNA glycosylase (EC 3.2.2.-); DNA-(apurinic or apyrimidinic site) lyase (AP lyase) (EC 4.2.99.18)]\tOgg1 CG1795\tDrosophila melanogaster (Fruit fly)\t343\n",
      "Q9VP04\tORMDL_DROME\treviewed\tORM1-like protein (dORMDL)\tORMDL CG14577\tDrosophila melanogaster (Fruit fly)\t154\n",
      "Q9W436\tNEP_DROME\treviewed\tNeprilysin-1 (EC 3.4.24.11)\tNep1 CG5905\tDrosophila melanogaster (Fruit fly)\t849\n",
      "Q8SY61\tOB56D_DROME\treviewed\tGeneral odorant-binding protein 56d\tObp56d CG11218\tDrosophila melanogaster (Fruit fly)\t131\n",
      "O16867\tTAP_DROME\treviewed\tBasic helix-loop-helix neural transcription factor TAP (Protein biparous) (Target of Poxn protein)\ttap bps CG7659\tDrosophila melanogaster (Fruit fly)\t398\n",
      "Q9GPH7\tSNMP1_MANSE\treviewed\tSensory neuron membrane protein 1 (SNMP1-Msex)\t\tManduca sexta (Tobacco hawkmoth) (Tobacco hornworm)\t523\n",
      "Q9W3Y4\tGA2PE_DROME\treviewed\tGAS2-like protein pickled eggs\tpigs CG3973\tDrosophila melanogaster (Fruit fly)\t977\n",
      "Q9VR82\tINX6_DROME\treviewed\tInnexin inx6 (Innexin-6) (Gap junction protein prp6) (Pas-related protein 6)\tInx6 prp6 CG17063\tDrosophila melanogaster (Fruit fly)\t481\n",
      "Q9V8Y9\tOB56H_DROME\treviewed\tGeneral odorant-binding protein 56h\tObp56h CG13874\tDrosophila melanogaster (Fruit fly)\t134\n",
      "P58959\tG39AD_DROME\treviewed\tGustatory and pheromone receptor 39a, isoform A\tGr39a GR39D.2 CG31622\tDrosophila melanogaster (Fruit fly)\t371\n",
      "P16912\tKAPC3_DROME\treviewed\tcAMP-dependent protein kinase catalytic subunit 3 (EC 2.7.11.1) (Protein kinase DC2)\tPka-C3 DC2 CG6117\tDrosophila melanogaster (Fruit fly)\t583\n",
      "Q9XZ14\tGOE_DROME\treviewed\tProtein gone early\tgoe CG9634\tDrosophila melanogaster (Fruit fly)\t879\n",
      "O77438\tFRIZ3_DROME\treviewed\tFrizzled-3 (dFz3)\tfz3 CG16785\tDrosophila melanogaster (Fruit fly)\t581\n",
      "Q9VWL5\tINX5_DROME\treviewed\tInnexin inx5\tInx5 CG7537\tDrosophila melanogaster (Fruit fly)\t419\n",
      "Q9W1N5\tGR59F_DROME\treviewed\tPutative gustatory receptor 59f\tGr59f GR59E.1 CG33150\tDrosophila melanogaster (Fruit fly)\t406\n",
      "Q9V8Y2\tOB56A_DROME\treviewed\tGeneral odorant-binding protein 56a\tObp56a CG11797\tDrosophila melanogaster (Fruit fly)\t139\n",
      "A1Z6W3\tPRIC1_DROME\treviewed\tProtein prickle (Protein spiny legs)\tpk CG11084\tDrosophila melanogaster (Fruit fly)\t1299\n",
      "Q9VFP2\tRDX_DROME\treviewed\tProtein roadkill (Hh-induced MATH and BTB domain-containing protein)\trdx HIB CG12537\tDrosophila melanogaster (Fruit fly)\t829\n",
      "Q9V5N8\tSTAN_DROME\treviewed\tProtocadherin-like wing polarity protein stan (Protein flamingo) (Protein starry night)\tstan fmi CG11895\tDrosophila melanogaster (Fruit fly)\t3579\n",
      "Q9V3Z6\tMYO7A_DROME\treviewed\tMyosin-VIIa (DmVIIa) (Protein crinkled)\tck CG7595\tDrosophila melanogaster (Fruit fly)\t2167\n",
      "Q59E55\tNAB_DROME\treviewed\tNGFI-A-binding protein homolog (dNAB)\tnab CG33545\tDrosophila melanogaster (Fruit fly)\t625\n",
      "Q9VUX2\tMIB_DROME\treviewed\tE3 ubiquitin-protein ligase mind-bomb (EC 2.3.2.27) (Mind bomb homolog) (D-mib) (RING-type E3 ubiquitin transferase mind-bomb)\tmib1 mind-bomb CG5841\tDrosophila melanogaster (Fruit fly)\t1226\n",
      "Q9VL84\tPPK11_DROME\treviewed\tPickpocket protein 11 (PPK11)\tppk11 CG34058 CG4110\tDrosophila melanogaster (Fruit fly)\t516\n",
      "Q24535\tSRF_DROME\treviewed\tSerum response factor homolog (dSRF) (Protein blistered)\tbs Serf CG3411\tDrosophila melanogaster (Fruit fly)\t449\n",
      "Q8SXX4\tCAPON_DROME\treviewed\tCapon-like protein\tCG42673\tDrosophila melanogaster (Fruit fly)\t698\n",
      "Q9VKJ9\tC2D1_DROME\treviewed\tCoiled-coil and C2 domain-containing protein 1-like (Lethal giant disks protein)\tl(2)gd1 lgd CG4713\tDrosophila melanogaster (Fruit fly)\t816\n",
      "Q9VGW1\tCAD86_DROME\treviewed\tCadherin-86C\tCad86C CG4509\tDrosophila melanogaster (Fruit fly)\t1943\n",
      "Q9VYB0\tBTHD_DROME\treviewed\tSelenoprotein BthD (dSelM)\tBthD CG11177\tDrosophila melanogaster (Fruit fly)\t249\n",
      "Q8IA42\tGALT4_DROME\treviewed\tN-acetylgalactosaminyltransferase 4 (EC 2.4.1.41) (Protein-UDP acetylgalactosaminyltransferase 4) (UDP-GalNAc:polypeptide N-acetylgalactosaminyltransferase 4) (pp-GaNTase 4)\tPgant4 CG31956\tDrosophila melanogaster (Fruit fly)\t644\n",
      "Q9V427\tINX2_DROME\treviewed\tInnexin inx2 (Innexin-2) (Gap junction protein prp33) (Pas-related protein 33)\tInx2 prp33 CG4590\tDrosophila melanogaster (Fruit fly)\t367\n",
      "P12080\tITA2_DROME\treviewed\tIntegrin alpha-PS2 (Position-specific antigen subunit alpha-2) (Protein inflated) [Cleaved into: Integrin alpha-PS2 heavy chain; Integrin alpha-PS2 light chain]\tif CG9623\tDrosophila melanogaster (Fruit fly)\t1396\n",
      "P04412\tEGFR_DROME\treviewed\tEpidermal growth factor receptor (Egfr) (EC 2.7.10.1) (Drosophila relative of ERBB) (Gurken receptor) (Protein torpedo)\tEgfr c-erbB DER top CG10079\tDrosophila melanogaster (Fruit fly)\t1426\n",
      "Q9VAS7\tINX3_DROME\treviewed\tInnexin inx3 (Innexin-3)\tInx3 CG1448\tDrosophila melanogaster (Fruit fly)\t395\n",
      "P58953\tGR22E_DROME\treviewed\tGustatory receptor for bitter taste 22e\tGr22e CG31936\tDrosophila melanogaster (Fruit fly)\t389\n",
      "Q9Y117\tGALT3_DROME\treviewed\tPolypeptide N-acetylgalactosaminyltransferase 3 (pp-GaNTase 3) (EC 2.4.1.41) (Protein-UDP acetylgalactosaminyltransferase 3) (UDP-GalNAc:polypeptide N-acetylgalactosaminyltransferase 3)\tPgant3 CG4445\tDrosophila melanogaster (Fruit fly)\t667\n",
      "P54360\tFOJO_DROME\treviewed\tExtracellular serine/threonine protein kinase four-jointed (EC 2.7.11.1) [Cleaved into: Protein four-jointed, secreted isoform]\tfj CG10917\tDrosophila melanogaster (Fruit fly)\t583\n",
      "Q9V730\tEXT1_DROME\treviewed\tExostosin-1 (EC 2.4.1.224) (EC 2.4.1.225) (Protein tout-velu)\tttv DEXT1 CG10117\tDrosophila melanogaster (Fruit fly)\t760\n",
      "Q9Y169\tEXT2_DROME\treviewed\tExostosin-2 (EC 2.4.1.224) (EC 2.4.1.225) (Protein sister of tout-velu)\tsotv Ext2 CG33038\tDrosophila melanogaster (Fruit fly)\t717\n",
      "Q9U1H0\tCIC_DROME\treviewed\tPutative transcription factor capicua (Protein fettucine)\tcic fet CG43122\tDrosophila melanogaster (Fruit fly)\t1832\n",
      "P23647\tFUSED_DROME\treviewed\tSerine/threonine-protein kinase fused (EC 2.7.11.1)\tfu CG6551\tDrosophila melanogaster (Fruit fly)\t805\n",
      "P92208\tJNK_DROME\treviewed\tStress-activated protein kinase JNK (dJNK) (EC 2.7.11.24) (Protein basket)\tbsk JNK CG5680\tDrosophila melanogaster (Fruit fly)\t372\n",
      "Q9VRX6\tINX4_DROME\treviewed\tInnexin inx4 (Innexin-4) (Protein zero population growth)\tzpg inx4 CG10125\tDrosophila melanogaster (Fruit fly)\t367\n",
      "Q9VM09\tGR28A_DROME\treviewed\tPutative gustatory receptor 28a\tGr28a CG13787\tDrosophila melanogaster (Fruit fly)\t450\n",
      "Q86S05\tLIG_DROME\treviewed\tProtein lingerer\tlig CG8715\tDrosophila melanogaster (Fruit fly)\t1375\n",
      "Q76KB1\tHS2ST_CHICK\treviewed\tHeparan sulfate 2-O-sulfotransferase 1 (cHS2ST) (EC 2.8.2.-)\tHS2ST1 HS2ST\tGallus gallus (Chicken)\t356\n",
      "P27716\tINX1_DROME\treviewed\tInnexin inx1 (Innexin-1) (Protein optic ganglion reduced) (Protein ogre)\togre inx1 l(1)ogre CG3039\tDrosophila melanogaster (Fruit fly)\t362\n",
      "Q8IR79\tLIMK1_DROME\treviewed\tLIM domain kinase 1 (LIMK-1) (EC 2.7.11.1) (dLIMK)\tLIMK1 LIMK CG1848\tDrosophila melanogaster (Fruit fly)\t1257\n",
      "Q9V4K2\tGR43A_DROME\treviewed\tGustatory receptor for sugar taste 43a\tGr43a GR43.1 CG1712\tDrosophila melanogaster (Fruit fly)\t427\n",
      "Q02936\tHH_DROME\treviewed\tProtein hedgehog [Cleaved into: Protein hedgehog N-product (Hh-Np) (N-Hh); Protein hedgehog C-product (Hh-Cp) (C-Hh)]\thh CG4637\tDrosophila melanogaster (Fruit fly)\t471\n",
      "P11584\tITBX_DROME\treviewed\tIntegrin beta-PS (Position-specific antigen beta subunit) (Protein myospheroid) (Protein olfactory C)\tmys l(1)mys olfC CG1560\tDrosophila melanogaster (Fruit fly)\t846\n",
      "Q9VM08\tGR28B_DROME\treviewed\tPutative gustatory receptor 28b\tGr28b CG13788\tDrosophila melanogaster (Fruit fly)\t470\n",
      "Q00805\tGIL_DROME\treviewed\tProtein giant-lens (Protein argos) (Protein strawberry)\taos gil sty CG4531\tDrosophila melanogaster (Fruit fly)\t444\n",
      "Q9XZ08\tEXT3_DROME\treviewed\tExostosin-3 (EC 2.4.1.223) (Protein brother of tout-velu)\tbotv DEXT3 CG15110\tDrosophila melanogaster (Fruit fly)\t972\n",
      "Q6WV20\tGALT1_DROME\treviewed\tPolypeptide N-acetylgalactosaminyltransferase 1 (pp-GaNTase 1) (EC 2.4.1.41) (Protein-UDP acetylgalactosaminyltransferase 1) (UDP-GalNAc:polypeptide N-acetylgalactosaminyltransferase 1)\tPgant1 GalNAc-T1 CG8182\tDrosophila melanogaster (Fruit fly)\t601\n",
      "P27091\t60A_DROME\treviewed\tProtein 60A (Protein glass bottom boat)\tgbb 60A gbb-60A TGFb-60A CG5562\tDrosophila melanogaster (Fruit fly)\t455\n",
      "Q6WV16\tGALT6_DROME\treviewed\tN-acetylgalactosaminyltransferase 6 (EC 2.4.1.41) (Protein-UDP acetylgalactosaminyltransferase 6) (UDP-GalNAc:polypeptide N-acetylgalactosaminyltransferase 6) (pp-GaNTase 6)\tPgant6 CG2103\tDrosophila melanogaster (Fruit fly)\t666\n",
      "P20009\tDLL_DROME\treviewed\tHomeotic protein distal-less (Protein brista)\tDll Ba BR CG3629\tDrosophila melanogaster (Fruit fly)\t327\n",
      "P54385\tDHE3_DROME\treviewed\tGlutamate dehydrogenase, mitochondrial (GDH) (EC 1.4.1.3)\tGdh Glud CG5320\tDrosophila melanogaster (Fruit fly)\t562\n",
      "P32866\tGPRK2_DROME\treviewed\tG protein-coupled receptor kinase 2 (EC 2.7.11.16)\tGprk2 Gprk-2 CG17998\tDrosophila melanogaster (Fruit fly)\t714\n",
      "Q7YU81\tCHN_DROME\treviewed\tProtein charlatan\tchn CG11798\tDrosophila melanogaster (Fruit fly)\t1214\n",
      "Q8I0G5\tCOPG_DROME\treviewed\tCoatomer subunit gamma (Gamma-coat protein) (Gamma-COP)\tgammaCOP copg gamma-Cop CG1528\tDrosophila melanogaster (Fruit fly)\t883\n",
      "Q9VBW6\tDAN_DROME\treviewed\tProtein distal antenna\tdan CG11849\tDrosophila melanogaster (Fruit fly)\t678\n",
      "Q17423\tCREC_CAEEL\treviewed\tCrescerin-like protein che-12\tche-12 B0024.8\tCaenorhabditis elegans\t1282\n",
      "P49883\tECR_MANSE\treviewed\tEcdysone receptor (20-hydroxy-ecdysone receptor) (20E receptor) (EcRH) (Ecdysteroid receptor) (Nuclear receptor subfamily 1 group H member 1)\tEcR NR1H1\tManduca sexta (Tobacco hawkmoth) (Tobacco hornworm)\t556\n",
      "Q9VVW5\tDUSK3_DROME\treviewed\tDual specificity protein phosphatase Mpk3 (EC 3.1.3.16) (EC 3.1.3.48) (Drosophila MKP3) (DMKP3) (Mitogen-activated protein kinase phosphatase 3) (MAP kinase phosphatase 3) (MKP-3)\tMkp3 CG14080\tDrosophila melanogaster (Fruit fly)\t411\n",
      "Q8IA43\tGLT10_DROME\treviewed\tPutative polypeptide N-acetylgalactosaminyltransferase 10 (pp-GaNTase 10) (EC 2.4.1.41) (Protein-UDP acetylgalactosaminyltransferase 10) (UDP-GalNAc:polypeptide N-acetylgalactosaminyltransferase 10)\tpgant10 CG31776\tDrosophila melanogaster (Fruit fly)\t630\n",
      "Q8IRC7\tAWH_DROME\treviewed\tLIM/homeobox protein Awh (Protein arrowhead)\tAwh CG1072\tDrosophila melanogaster (Fruit fly)\t275\n",
      "P80686\tCUH1C_TENMO\treviewed\tLarval/pupal cuticle protein H1C (TM-PCP H1C) (TM-H1C) (TMLPCP-22)\tLPCP-22\tTenebrio molitor (Yellow mealworm beetle)\t211\n",
      "Q9VCR3\tCOW_DROME\treviewed\tProteoglycan Cow (Carrier of wingless) (Carrier of wg)\tCow CG13830\tDrosophila melanogaster (Fruit fly)\t629\n",
      "P45590\tCU66_HYACE\treviewed\tLarval/pupal rigid cuticle protein 66 (HCCP66)\tCP66\tHyalophora cecropia (Cecropia moth)\t129\n",
      "Q9VI93\tRN_DROME\treviewed\tZinc finger protein rotund (Zinc finger protein roughened eye)\trn roe CG32466\tDrosophila melanogaster (Fruit fly)\t946\n",
      "O18334\tRAB6_DROME\treviewed\tRas-related protein Rab6 (Protein warthog)\tRab6 wrt CG6601\tDrosophila melanogaster (Fruit fly)\t208\n",
      "Q9VAJ3\tPPK19_DROME\treviewed\tPickpocket protein 19 (PPK19)\tppk19 CG18287\tDrosophila melanogaster (Fruit fly)\t511\n",
      "\n"
     ]
    }
   ],
   "source": [
    "# SOLUTION - EXERCISE 01\n",
    "query = 'annotation:(type:\"tissue specificity\" wing)'\n",
    "result = service.search(query)\n",
    "print(result)"
   ]
  },
  {
   "cell_type": "markdown",
   "metadata": {},
   "source": [
    "<a id=\"combine\"></a>\n",
    "### Combining queries\n",
    "\n",
    "<p></p>\n",
    "<div class=\"alert-success\">\n",
    "    <b>Combining terms in a <code>UniProt</code> query can be as straightforward as putting them in the same string, separated by a space.</b>\n",
    "</div>\n",
    "\n",
    "For example:\n",
    "\n",
    "```python\n",
    "query = \"organism:rabbit tissue:eye\"\n",
    "```\n",
    "\n",
    "will search for all entries deriving from rabbits that are found in the eye"
   ]
  },
  {
   "cell_type": "code",
   "execution_count": 9,
   "metadata": {
    "scrolled": true
   },
   "outputs": [
    {
     "name": "stdout",
     "output_type": "stream",
     "text": [
      "Entry\tEntry name\tStatus\tProtein names\tGene names\tOrganism\tLength\n",
      "Q866N2\tMYOC_RABIT\treviewed\tMyocilin (Trabecular meshwork-induced glucocorticoid response protein) [Cleaved into: Myocilin, N-terminal fragment (Myocilin 20 kDa N-terminal fragment); Myocilin, C-terminal fragment (Myocilin 35 kDa N-terminal fragment)]\tMYOC TIGR\tOryctolagus cuniculus (Rabbit)\t490\n",
      "P41316\tCRYAB_RABIT\treviewed\tAlpha-crystallin B chain (Alpha(B)-crystallin)\tCRYAB\tOryctolagus cuniculus (Rabbit)\t175\n",
      "P14755\tCRYL1_RABIT\treviewed\tLambda-crystallin (EC 1.1.1.45) (L-gulonate 3-dehydrogenase) (Gul3DH)\tCRYL1 GUL3DH\tOryctolagus cuniculus (Rabbit)\t319\n",
      "A4L9J0\tMIP_RABIT\treviewed\tLens fiber major intrinsic protein (Aquaporin-0)\tMIP\tOryctolagus cuniculus (Rabbit)\t263\n",
      "Q9TV70\tDHDH_RABIT\treviewed\tTrans-1,2-dihydrobenzene-1,2-diol dehydrogenase (EC 1.3.1.20) (D-xylose 1-dehydrogenase) (D-xylose-NADP dehydrogenase) (EC 1.1.1.179) (Dimeric dihydrodiol dehydrogenase) (Ory2DD) (Fragment)\tDHDH 2DD\tOryctolagus cuniculus (Rabbit)\t329\n",
      "P55820\tSNP25_RABIT\treviewed\tSynaptosomal-associated protein 25 (SNAP-25) (Super protein) (SUP) (Synaptosomal-associated 25 kDa protein) (Fragments)\tSNAP25 SNAP\tOryctolagus cuniculus (Rabbit)\t54\n",
      "P02493\tCRYAA_RABIT\treviewed\tAlpha-crystallin A chain\tCRYAA\tOryctolagus cuniculus (Rabbit)\t173\n",
      "A2IBH5\tCRBB2_RABIT\treviewed\tBeta-crystallin B2 (Beta-B2 crystallin) (Beta-crystallin Bp)\tCRYBB2\tOryctolagus cuniculus (Rabbit)\t205\n",
      "A4L9I8\tCRYGS_RABIT\treviewed\tGamma-crystallin S (Beta-crystallin S) (Gamma-S-crystallin)\tCRYGS\tOryctolagus cuniculus (Rabbit)\t179\n",
      "A4L9I9\tCRBA2_RABIT\treviewed\tBeta-crystallin A2 (Beta-A2 crystallin)\tCRYBA2\tOryctolagus cuniculus (Rabbit)\t197\n",
      "Q0GA40\tLGSN_RABIT\treviewed\tLengsin (Glutamate-ammonia ligase domain-containing protein 1)\tLGSN GLULD1 LGS\tOryctolagus cuniculus (Rabbit)\t571\n",
      "A4L9J1\tA4L9J1_RABIT\tunreviewed\tLens fiber membrane intrinsic protein\tLim2\tOryctolagus cuniculus (Rabbit)\t173\n",
      "A4L9L8\tA4L9L8_RABIT\tunreviewed\tPhakinin\tBfsp2\tOryctolagus cuniculus (Rabbit)\t396\n",
      "Q95KK6\tQ95KK6_RABIT\tunreviewed\tBeta A3-crystallin\t\tOryctolagus cuniculus (Rabbit)\t215\n",
      "Q9XSZ3\tQ9XSZ3_RABIT\tunreviewed\tEye sodium bicarbonate cotransport protein NBC2 (Fragment)\t\tOryctolagus cuniculus (Rabbit)\t88\n",
      "Q95KK5\tQ95KK5_RABIT\tunreviewed\tBeta A1-crystallin\t\tOryctolagus cuniculus (Rabbit)\t198\n",
      "\n"
     ]
    }
   ],
   "source": [
    "# Combine queries for rabbit (organism) and eye (tissue), and search\n",
    "query = \"organism:rabbit tissue:eye\"\n",
    "result = service.search(query)\n",
    "print(result)"
   ]
  },
  {
   "cell_type": "markdown",
   "metadata": {},
   "source": [
    "<img src=\"../assets/images/exercise.png\" style=\"width: 100px; float: left;\">\n",
    "\n",
    "<a id=\"ex02\"></a>\n",
    "### Exercise 02 (10min)\n",
    "\n",
    "Using `key:value` searches, can you find and download sets of entries for proteins that satisfy the following requirements? (**HINT:** this <a href=\"http://www.uniprot.org/help/query-fields\">link</a> to the `UniProt` query fields may be helpful, here):\n",
    "\n",
    "<p></p>\n",
    "<div class=\"alert-danger\">\n",
    "<ul>\n",
    "<li> Found in sheep spleen\n",
    "<li> Have \"rxlr\" in their name, have a publication with author name Pritchard, and are between 70aa and 80aa in length\n",
    "<li> Derive from a quokka and have had their annotations manually reviewed\n",
    "<li> Are found in cell membranes of horse heart tissue, and have had their annotations manually reviewed\n",
    "</ul>\n",
    "</div>"
   ]
  },
  {
   "cell_type": "code",
   "execution_count": 10,
   "metadata": {
    "scrolled": true
   },
   "outputs": [
    {
     "name": "stdout",
     "output_type": "stream",
     "text": [
      "Entry\tEntry name\tStatus\tProtein names\tGene names\tOrganism\tLength\n",
      "D0NZW3\tD0NZW3_PHYIT\tunreviewed\tSecreted RxLR effector peptide protein, putative\tPITG_23154\tPhytophthora infestans (strain T30-4) (Potato late blight fungus)\t79\n",
      "D0NKZ7\tD0NKZ7_PHYIT\tunreviewed\tSecreted RxLR effector peptide protein, putative\tPITG_22972\tPhytophthora infestans (strain T30-4) (Potato late blight fungus)\t76\n",
      "D0NPQ2\tD0NPQ2_PHYIT\tunreviewed\tSecreted RxLR effector peptide protein, putative\tPITG_23016\tPhytophthora infestans (strain T30-4) (Potato late blight fungus)\t77\n",
      "D0NNG1\tD0NNG1_PHYIT\tunreviewed\tSecreted RxLR effector peptide protein, putative\tPITG_23011\tPhytophthora infestans (strain T30-4) (Potato late blight fungus)\t74\n",
      "D0N526\tD0N526_PHYIT\tunreviewed\tSecreted RxLR effector peptide protein, putative\tPITG_22802\tPhytophthora infestans (strain T30-4) (Potato late blight fungus)\t74\n",
      "D0RM37\tD0RM37_PHYIT\tunreviewed\tSecreted RxLR effector peptide protein, putative (Fragment)\tPITG_23230\tPhytophthora infestans (strain T30-4) (Potato late blight fungus)\t70\n",
      "D0NC53\tD0NC53_PHYIT\tunreviewed\tSecreted RxLR effector peptide protein, putative\tPITG_09497\tPhytophthora infestans (strain T30-4) (Potato late blight fungus)\t71\n",
      "D0NC52\tD0NC52_PHYIT\tunreviewed\tSecreted RxLR effector peptide protein, putative\tPITG_22889 PITG_22890\tPhytophthora infestans (strain T30-4) (Potato late blight fungus)\t76\n",
      "D0RM38\tD0RM38_PHYIT\tunreviewed\tSecreted RxLR effector peptide protein, putative\tPITG_23231\tPhytophthora infestans (strain T30-4) (Potato late blight fungus)\t72\n",
      "D0NR19\tD0NR19_PHYIT\tunreviewed\tSecreted RxLR effector peptide protein, putative (Fragment)\tPITG_23026\tPhytophthora infestans (strain T30-4) (Potato late blight fungus)\t71\n",
      "D0N0J8\tD0N0J8_PHYIT\tunreviewed\tSecreted RxLR effector peptide protein, putative\tPITG_22727\tPhytophthora infestans (strain T30-4) (Potato late blight fungus)\t70\n",
      "D0NJW0\tD0NJW0_PHYIT\tunreviewed\tSecreted RxLR effector peptide protein, putative\tPITG_22987 PITG_23199\tPhytophthora infestans (strain T30-4) (Potato late blight fungus)\t70\n",
      "D0N8C9\tD0N8C9_PHYIT\tunreviewed\tSecreted RxLR effector peptide protein, putative\tPITG_22813\tPhytophthora infestans (strain T30-4) (Potato late blight fungus)\t72\n",
      "D0P4W7\tD0P4W7_PHYIT\tunreviewed\tSecreted RxLR effector peptide protein, putative\tPITG_23216\tPhytophthora infestans (strain T30-4) (Potato late blight fungus)\t77\n",
      "D0NCS4\tD0NCS4_PHYIT\tunreviewed\tSecreted RxLR effector peptide protein, putative\tPITG_22900\tPhytophthora infestans (strain T30-4) (Potato late blight fungus)\t78\n",
      "D0P471\tD0P471_PHYIT\tunreviewed\tSecreted RxLR effector peptide protein, putative\tPITG_23206\tPhytophthora infestans (strain T30-4) (Potato late blight fungus)\t80\n",
      "D0NY99\tD0NY99_PHYIT\tunreviewed\tPexRD36 secreted RxLR effector peptide, putative\tPITG_23132\tPhytophthora infestans (strain T30-4) (Potato late blight fungus)\t76\n",
      "D0NX57\tD0NX57_PHYIT\tunreviewed\tRXLR effector family protein, putative\tPITG_18160\tPhytophthora infestans (strain T30-4) (Potato late blight fungus)\t80\n",
      "\n"
     ]
    }
   ],
   "source": [
    "# SOLUTION - EXERCISE 02\n",
    "query = \"name:rxlr author:pritchard length:[70 TO 80]\"\n",
    "result = service.search(query)\n",
    "print(result)"
   ]
  },
  {
   "cell_type": "code",
   "execution_count": 11,
   "metadata": {},
   "outputs": [
    {
     "name": "stdout",
     "output_type": "stream",
     "text": [
      "Entry\tEntry name\tStatus\tProtein names\tGene names\tOrganism\tLength\n",
      "P67840\tHSP1_SETBR\treviewed\tSperm protamine P1\tPRM1\tSetonix brachyurus (Quokka)\t61\n",
      "\n"
     ]
    }
   ],
   "source": [
    "# SOLUTION - EXERCISE 02\n",
    "query = \"organism:quokka AND reviewed:yes\"\n",
    "result = service.search(query)\n",
    "print(result)"
   ]
  },
  {
   "cell_type": "code",
   "execution_count": 12,
   "metadata": {},
   "outputs": [
    {
     "name": "stdout",
     "output_type": "stream",
     "text": [
      "Entry\tEntry name\tStatus\tProtein names\tGene names\tOrganism\tLength\n",
      "Q2EEY0\tTLR9_HORSE\treviewed\tToll-like receptor 9 (CD antigen CD289)\tTLR9\tEquus caballus (Horse)\t1031\n",
      "\n"
     ]
    }
   ],
   "source": [
    "# SOLUTION - EXERCISE 02\n",
    "query = 'organism:horse annotation:(type:\"tissue specificity\" heart) locations:(location:membrane) reviewed:yes'\n",
    "result = service.search(query)\n",
    "print(result)"
   ]
  },
  {
   "cell_type": "markdown",
   "metadata": {},
   "source": [
    "<a id=\"boolean\"></a>\n",
    "### Combining terms with Boolean logic\n",
    "\n",
    "Boolean logic allows you to combine search terms with each other in arbitrary ways using three *operators*, specifying whether:\n",
    "\n",
    "* both terms are required (`AND`) **NOTE:** this is implicitly what you have been doing in the examples above\n",
    "* either term is allowed (`OR`)\n",
    "* a term is disallowed (`NOT`)\n",
    "\n",
    "Searches are read from left-to right, but the logic of a search can be controlled by placing the combinations you want to resolve first in parentheses (`()`). Combining these operators can build some extremely powerful searches. For example, to get all proteins from horses and sheep, identified in the ovary, and having length greater than 200aa, you could use the query:\n",
    "\n",
    "```\n",
    "query = \"tissue:ovary AND (organism:sheep OR organism:horse) NOT length:[1 TO 200]\"\n",
    "```"
   ]
  },
  {
   "cell_type": "markdown",
   "metadata": {},
   "source": [
    "<a id=\"processing\"></a>\n",
    "## Processing query results\n",
    "\n",
    "So far you have worked with the default output from `bioservices`, although you know from [the previous notebook](01-uniprot_browser.ipynb) that `UniProt` can provide output in a number of useful formats for searches in the browser.\n",
    "\n",
    "The default output is `tabular`, and gives a good idea of the nature and content of the entries you recover. In this section, you will see some ways to download search results in alternative formats, which can be useful for analysis.\n",
    "\n",
    "All the output format options are controlled in a similar way, using the `frmt=<format>` argument when you conduct your search - with `<format>` being one of the allowed terms (see the [`bioservices` documentation](https://pythonhosted.org/bioservices/references.html#module-bioservices.uniprot) for a full list."
   ]
  },
  {
   "cell_type": "markdown",
   "metadata": {},
   "source": [
    "<a id=\"tabular\"></a>\n",
    "### Tabular\n",
    "\n",
    "<p></p>\n",
    "<div class=\"alert-success\">\n",
    "<b>The default datatype is the most flexible datatype for download: <i>tabular</i>.</b>\n",
    "</div>\n",
    "\n",
    "This can be specified explicitly with the `tab` format:\n",
    "\n",
    "```python\n",
    "result = service.search(query, frmt=\"tab\")\n",
    "```"
   ]
  },
  {
   "cell_type": "code",
   "execution_count": 13,
   "metadata": {},
   "outputs": [
    {
     "name": "stdout",
     "output_type": "stream",
     "text": [
      "Entry\tEntry name\tStatus\tProtein names\tGene names\tOrganism\tLength\n",
      "Q01844\tEWS_HUMAN\treviewed\tRNA-binding protein EWS (EWS oncogene) (Ewing sarcoma breakpoint region 1 protein)\tEWSR1 EWS\tHomo sapiens (Human)\t656\n",
      "Q13077\tTRAF1_HUMAN\treviewed\tTNF receptor-associated factor 1 (Epstein-Barr virus-induced protein 6)\tTRAF1 EBI6\tHomo sapiens (Human)\t416\n",
      "Q13485\tSMAD4_HUMAN\treviewed\tMothers against decapentaplegic homolog 4 (MAD homolog 4) (Mothers against DPP homolog 4) (Deletion target in pancreatic carcinoma 4) (SMAD family member 4) (SMAD 4) (Smad4) (hSMAD4)\tSMAD4 DPC4 MADH4\tHomo sapiens (Human)\t552\n",
      "P49910\tZN165_HUMAN\treviewed\tZinc finger protein 165 (Cancer/testis antigen 53) (CT53) (LD65) (Zinc finger and SCAN domain-containing protein 7)\tZNF165 ZPF165 ZSCAN7\tHomo sapiens (Human)\t485\n",
      "O95486\tSC24A_HUMAN\treviewed\tProtein transport protein Sec24A (SEC24-related protein A)\tSEC24A\tHomo sapiens (Human)\t1093\n",
      "Q9NS23\tRASF1_HUMAN\treviewed\tRas association domain-containing protein 1\tRASSF1 RDA32\tHomo sapiens (Human)\t344\n",
      "Q12933\tTRAF2_HUMAN\treviewed\tTNF receptor-associated factor 2 (EC 2.3.2.27) (E3 ubiquitin-protein ligase TRAF2) (RING-type E3 ubiquitin transferase TRAF2) (Tumor necrosis factor type 2 receptor-associated protein 3)\tTRAF2 TRAP3\tHomo sapiens (Human)\t501\n",
      "Q92734\tTFG_HUMAN\treviewed\tProtein TFG (TRK-fused gene protein)\tTFG\tHomo sapiens (Human)\t400\n",
      "O94855\tSC24D_HUMAN\treviewed\tProtein transport protein Sec24D (SEC24-related protein D)\tSEC24D KIAA0755\tHomo sapiens (Human)\t1032\n",
      "P35637\tFUS_HUMAN\treviewed\tRNA-binding protein FUS (75 kDa DNA-pairing protein) (Oncogene FUS) (Oncogene TLS) (POMp75) (Translocated in liposarcoma protein)\tFUS TLS\tHomo sapiens (Human)\t526\n",
      "Q8NDC0\tMISSL_HUMAN\treviewed\tMAPK-interacting and spindle-stabilizing protein-like (Mitogen-activated protein kinase 1-interacting protein 1-like)\tMAPK1IP1L C14orf32\tHomo sapiens (Human)\t245\n",
      "Q9UBV8\tPEF1_HUMAN\treviewed\tPeflin (PEF protein with a long N-terminal hydrophobic domain) (Penta-EF hand domain-containing protein 1)\tPEF1 ABP32 UNQ1845/PRO3573\tHomo sapiens (Human)\t284\n",
      "O15162\tPLS1_HUMAN\treviewed\tPhospholipid scramblase 1 (PL scramblase 1) (Ca(2+)-dependent phospholipid scramblase 1) (Erythrocyte phospholipid scramblase) (Mg(2+)-dependent nuclease) (EC 3.1.-.-) (MmTRA1b)\tPLSCR1\tHomo sapiens (Human)\t318\n",
      "Q9NZ81\tPRR13_HUMAN\treviewed\tProline-rich protein 13 (Taxane-resistance protein)\tPRR13 TXR1 BM-041\tHomo sapiens (Human)\t148\n",
      "Q9BWW4\tSSBP3_HUMAN\treviewed\tSingle-stranded DNA-binding protein 3 (Sequence-specific single-stranded-DNA-binding protein)\tSSBP3 SSDP SSDP1\tHomo sapiens (Human)\t388\n",
      "Q99873\tANM1_HUMAN\treviewed\tProtein arginine N-methyltransferase 1 (EC 2.1.1.319) (Histone-arginine N-methyltransferase PRMT1) (Interferon receptor 1-bound protein 4)\tPRMT1 HMT2 HRMT1L2 IR1B4\tHomo sapiens (Human)\t371\n",
      "Q92993\tKAT5_HUMAN\treviewed\tHistone acetyltransferase KAT5 (EC 2.3.1.48) (60 kDa Tat-interactive protein) (Tip60) (Histone acetyltransferase HTATIP) (HIV-1 Tat interactive protein) (Lysine acetyltransferase 5) (cPLA(2)-interacting protein)\tKAT5 HTATIP TIP60\tHomo sapiens (Human)\t513\n",
      "Q09472\tEP300_HUMAN\treviewed\tHistone acetyltransferase p300 (p300 HAT) (EC 2.3.1.48) (E1A-associated protein p300) (Histone butyryltransferase p300) (EC 2.3.1.-) (Histone crotonyltransferase p300) (EC 2.3.1.-) (Protein 2-hydroxyisobutyryltransferase p300) (EC 2.3.1.-) (Protein propionyltransferase p300) (EC 2.3.1.-)\tEP300 P300\tHomo sapiens (Human)\t2414\n",
      "Q8N5M1\tATPF2_HUMAN\treviewed\tATP synthase mitochondrial F1 complex assembly factor 2 (ATP12 homolog)\tATPAF2 ATP12 LP3663\tHomo sapiens (Human)\t289\n",
      "\n"
     ]
    }
   ],
   "source": [
    "# Make a query string (\"Q01844\"), and run a remote search at UniProt,\n",
    "# getting the result as tabular format (frmt=\"tab\")\n",
    "query = \"Q01844\"\n",
    "result = service.search(query, frmt=\"tab\")\n",
    "\n",
    "# Inspect the result\n",
    "print(result)"
   ]
  },
  {
   "cell_type": "markdown",
   "metadata": {},
   "source": [
    "By default, the columns that are returned are: `Entry`, `Entry name`, `Status`, `Protein names`, `Gene names`, `Organism`, and `Length`. But these can be modified by passing the `columns=<list>` argument, where the `<list>` is a comma-separated list of column names. For example:\n",
    "\n",
    "```python\n",
    "columnlist = \"id,entry name,length,organism,mass,domains,domain,pathway\"\n",
    "result = service.search(query, frmt=\"tab\", columns=columnlist)\n",
    "```\n",
    "\n",
    "The list of allowed column names can be found by inspecting the content of the variable `service._valid_columns`."
   ]
  },
  {
   "cell_type": "code",
   "execution_count": 14,
   "metadata": {},
   "outputs": [
    {
     "name": "stdout",
     "output_type": "stream",
     "text": [
      "Entry\tEntry name\tLength\tMass\tGene ontology (cellular component)\n",
      "Q01844\tEWS_HUMAN\t656\t68,478\tcytoplasm [GO:0005737]; nucleolus [GO:0005730]; nucleoplasm [GO:0005654]; nucleus [GO:0005634]; plasma membrane [GO:0005886]\n",
      "Q13077\tTRAF1_HUMAN\t416\t46,164\tcytoplasm [GO:0005737]; cytoplasmic side of plasma membrane [GO:0009898]; cytosol [GO:0005829]\n",
      "Q13485\tSMAD4_HUMAN\t552\t60,439\tactivin responsive factor complex [GO:0032444]; centrosome [GO:0005813]; cytoplasm [GO:0005737]; cytosol [GO:0005829]; heteromeric SMAD protein complex [GO:0071144]; nuclear chromatin [GO:0000790]; nucleoplasm [GO:0005654]; nucleus [GO:0005634]; SMAD protein complex [GO:0071141]; transcription regulator complex [GO:0005667]\n",
      "P49910\tZN165_HUMAN\t485\t55,771\tnucleus [GO:0005634]\n",
      "O95486\tSC24A_HUMAN\t1093\t119,749\tCOPII vesicle coat [GO:0030127]; cytosol [GO:0005829]; endoplasmic reticulum exit site [GO:0070971]; endoplasmic reticulum membrane [GO:0005789]; ER to Golgi transport vesicle membrane [GO:0012507]; Golgi membrane [GO:0000139]\n",
      "Q9NS23\tRASF1_HUMAN\t344\t39,219\tcytoplasm [GO:0005737]; microtubule [GO:0005874]; microtubule cytoskeleton [GO:0015630]; microtubule organizing center [GO:0005815]; nucleus [GO:0005634]; spindle pole [GO:0000922]\n",
      "Q12933\tTRAF2_HUMAN\t501\t55,859\tCD40 receptor complex [GO:0035631]; cell cortex [GO:0005938]; cytoplasmic side of plasma membrane [GO:0009898]; cytosol [GO:0005829]; IRE1-TRAF2-ASK1 complex [GO:1990604]; membrane raft [GO:0045121]; nucleoplasm [GO:0005654]; TRAF2-GSTP1 complex [GO:0097057]; tumor necrosis factor receptor superfamily complex [GO:0002947]; ubiquitin ligase complex [GO:0000151]; vesicle membrane [GO:0012506]\n",
      "Q92734\tTFG_HUMAN\t400\t43,448\tcytoplasm [GO:0005737]; cytosol [GO:0005829]; endoplasmic reticulum exit site [GO:0070971]; Golgi membrane [GO:0000139]; intracellular membrane-bounded organelle [GO:0043231]\n",
      "O94855\tSC24D_HUMAN\t1032\t113,010\tCOPII vesicle coat [GO:0030127]; cytosol [GO:0005829]; endoplasmic reticulum exit site [GO:0070971]; endoplasmic reticulum membrane [GO:0005789]; ER to Golgi transport vesicle membrane [GO:0012507]; Golgi membrane [GO:0000139]; intracellular membrane-bounded organelle [GO:0043231]\n",
      "P35637\tFUS_HUMAN\t526\t53,426\tdendritic spine head [GO:0044327]; nucleoplasm [GO:0005654]; nucleus [GO:0005634]; perikaryon [GO:0043204]; perinuclear region of cytoplasm [GO:0048471]; polysome [GO:0005844]\n",
      "Q8NDC0\tMISSL_HUMAN\t245\t24,269\t\n",
      "Q9UBV8\tPEF1_HUMAN\t284\t30,381\tCOPII vesicle coat [GO:0030127]; Cul3-RING ubiquitin ligase complex [GO:0031463]; cytoplasm [GO:0005737]; endoplasmic reticulum [GO:0005783]; extracellular exosome [GO:0070062]; Golgi membrane [GO:0000139]\n",
      "O15162\tPLS1_HUMAN\t318\t35,049\tcollagen-containing extracellular matrix [GO:0062023]; cytoplasm [GO:0005737]; cytosol [GO:0005829]; extracellular exosome [GO:0070062]; Golgi apparatus [GO:0005794]; integral component of plasma membrane [GO:0005887]; membrane [GO:0016020]; membrane raft [GO:0045121]; nucleolus [GO:0005730]; nucleoplasm [GO:0005654]; nucleus [GO:0005634]; perinuclear region of cytoplasm [GO:0048471]; plasma membrane [GO:0005886]\n",
      "Q9NZ81\tPRR13_HUMAN\t148\t15,385\tcytosol [GO:0005829]; nucleoplasm [GO:0005654]\n",
      "Q9BWW4\tSSBP3_HUMAN\t388\t40,421\tnucleus [GO:0005634]; protein-containing complex [GO:0032991]\n",
      "Q99873\tANM1_HUMAN\t371\t42,462\tcytoplasm [GO:0005737]; cytosol [GO:0005829]; methylosome [GO:0034709]; nucleoplasm [GO:0005654]; nucleus [GO:0005634]\n",
      "Q92993\tKAT5_HUMAN\t513\t58,582\tNuA4 histone acetyltransferase complex [GO:0035267]; nuclear chromatin [GO:0000790]; nucleolus [GO:0005730]; nucleoplasm [GO:0005654]; nucleus [GO:0005634]; perinuclear region of cytoplasm [GO:0048471]; Piccolo NuA4 histone acetyltransferase complex [GO:0032777]; Swr1 complex [GO:0000812]; transcription regulator complex [GO:0005667]\n",
      "Q09472\tEP300_HUMAN\t2414\t264,161\tchromosome [GO:0005694]; cytosol [GO:0005829]; histone acetyltransferase complex [GO:0000123]; nucleoplasm [GO:0005654]; nucleus [GO:0005634]; protein-DNA complex [GO:0032993]; transcription regulator complex [GO:0005667]\n",
      "Q8N5M1\tATPF2_HUMAN\t289\t32,772\tcytosol [GO:0005829]; mitochondrion [GO:0005739]; nuclear speck [GO:0016607]\n",
      "\n"
     ]
    }
   ],
   "source": [
    "# Make a query string (\"Q01844\")\n",
    "query = \"Q01844\"\n",
    "\n",
    "# Define a list of columns we want to retrive\n",
    "columnlist = \"id,entry name,length,mass,go(cellular component)\"\n",
    "\n",
    "# Run the remote search (columns=columnlist)\n",
    "result = service.search(query, columns=columnlist)\n",
    "\n",
    "# View the result\n",
    "print(result)"
   ]
  },
  {
   "cell_type": "markdown",
   "metadata": {},
   "source": [
    "#### Converting to a dataframe\n",
    "\n",
    "<p></p>\n",
    "<div class=\"alert-success\">\n",
    "    <b>The <code>pandas</code> module allows us to process tabular data into dataframes, just like in <code>R</code>.</b>\n",
    "</div>\n",
    "\n",
    "To do this, we have to use the `io.StringIO()` class to make it think that our downloaded results are a file\n",
    "\n",
    "```python\n",
    "df = pd.read_table(io.StringIO(result))\n",
    "```"
   ]
  },
  {
   "cell_type": "code",
   "execution_count": 15,
   "metadata": {},
   "outputs": [
    {
     "data": {
      "text/html": [
       "<div>\n",
       "<style scoped>\n",
       "    .dataframe tbody tr th:only-of-type {\n",
       "        vertical-align: middle;\n",
       "    }\n",
       "\n",
       "    .dataframe tbody tr th {\n",
       "        vertical-align: top;\n",
       "    }\n",
       "\n",
       "    .dataframe thead th {\n",
       "        text-align: right;\n",
       "    }\n",
       "</style>\n",
       "<table border=\"1\" class=\"dataframe\">\n",
       "  <thead>\n",
       "    <tr style=\"text-align: right;\">\n",
       "      <th></th>\n",
       "      <th>Entry</th>\n",
       "      <th>Entry name</th>\n",
       "      <th>Length</th>\n",
       "      <th>Mass</th>\n",
       "      <th>Gene ontology (cellular component)</th>\n",
       "    </tr>\n",
       "  </thead>\n",
       "  <tbody>\n",
       "    <tr>\n",
       "      <th>0</th>\n",
       "      <td>Q01844</td>\n",
       "      <td>EWS_HUMAN</td>\n",
       "      <td>656</td>\n",
       "      <td>68,478</td>\n",
       "      <td>cytoplasm [GO:0005737]; nucleolus [GO:0005730]...</td>\n",
       "    </tr>\n",
       "    <tr>\n",
       "      <th>1</th>\n",
       "      <td>Q13077</td>\n",
       "      <td>TRAF1_HUMAN</td>\n",
       "      <td>416</td>\n",
       "      <td>46,164</td>\n",
       "      <td>cytoplasm [GO:0005737]; cytoplasmic side of pl...</td>\n",
       "    </tr>\n",
       "    <tr>\n",
       "      <th>2</th>\n",
       "      <td>Q13485</td>\n",
       "      <td>SMAD4_HUMAN</td>\n",
       "      <td>552</td>\n",
       "      <td>60,439</td>\n",
       "      <td>activin responsive factor complex [GO:0032444]...</td>\n",
       "    </tr>\n",
       "    <tr>\n",
       "      <th>3</th>\n",
       "      <td>P49910</td>\n",
       "      <td>ZN165_HUMAN</td>\n",
       "      <td>485</td>\n",
       "      <td>55,771</td>\n",
       "      <td>nucleus [GO:0005634]</td>\n",
       "    </tr>\n",
       "    <tr>\n",
       "      <th>4</th>\n",
       "      <td>O95486</td>\n",
       "      <td>SC24A_HUMAN</td>\n",
       "      <td>1093</td>\n",
       "      <td>119,749</td>\n",
       "      <td>COPII vesicle coat [GO:0030127]; cytosol [GO:0...</td>\n",
       "    </tr>\n",
       "    <tr>\n",
       "      <th>5</th>\n",
       "      <td>Q9NS23</td>\n",
       "      <td>RASF1_HUMAN</td>\n",
       "      <td>344</td>\n",
       "      <td>39,219</td>\n",
       "      <td>cytoplasm [GO:0005737]; microtubule [GO:000587...</td>\n",
       "    </tr>\n",
       "    <tr>\n",
       "      <th>6</th>\n",
       "      <td>Q12933</td>\n",
       "      <td>TRAF2_HUMAN</td>\n",
       "      <td>501</td>\n",
       "      <td>55,859</td>\n",
       "      <td>CD40 receptor complex [GO:0035631]; cell corte...</td>\n",
       "    </tr>\n",
       "    <tr>\n",
       "      <th>7</th>\n",
       "      <td>Q92734</td>\n",
       "      <td>TFG_HUMAN</td>\n",
       "      <td>400</td>\n",
       "      <td>43,448</td>\n",
       "      <td>cytoplasm [GO:0005737]; cytosol [GO:0005829]; ...</td>\n",
       "    </tr>\n",
       "    <tr>\n",
       "      <th>8</th>\n",
       "      <td>O94855</td>\n",
       "      <td>SC24D_HUMAN</td>\n",
       "      <td>1032</td>\n",
       "      <td>113,010</td>\n",
       "      <td>COPII vesicle coat [GO:0030127]; cytosol [GO:0...</td>\n",
       "    </tr>\n",
       "    <tr>\n",
       "      <th>9</th>\n",
       "      <td>P35637</td>\n",
       "      <td>FUS_HUMAN</td>\n",
       "      <td>526</td>\n",
       "      <td>53,426</td>\n",
       "      <td>dendritic spine head [GO:0044327]; nucleoplasm...</td>\n",
       "    </tr>\n",
       "    <tr>\n",
       "      <th>10</th>\n",
       "      <td>Q8NDC0</td>\n",
       "      <td>MISSL_HUMAN</td>\n",
       "      <td>245</td>\n",
       "      <td>24,269</td>\n",
       "      <td>NaN</td>\n",
       "    </tr>\n",
       "    <tr>\n",
       "      <th>11</th>\n",
       "      <td>Q9UBV8</td>\n",
       "      <td>PEF1_HUMAN</td>\n",
       "      <td>284</td>\n",
       "      <td>30,381</td>\n",
       "      <td>COPII vesicle coat [GO:0030127]; Cul3-RING ubi...</td>\n",
       "    </tr>\n",
       "    <tr>\n",
       "      <th>12</th>\n",
       "      <td>O15162</td>\n",
       "      <td>PLS1_HUMAN</td>\n",
       "      <td>318</td>\n",
       "      <td>35,049</td>\n",
       "      <td>collagen-containing extracellular matrix [GO:0...</td>\n",
       "    </tr>\n",
       "    <tr>\n",
       "      <th>13</th>\n",
       "      <td>Q9NZ81</td>\n",
       "      <td>PRR13_HUMAN</td>\n",
       "      <td>148</td>\n",
       "      <td>15,385</td>\n",
       "      <td>cytosol [GO:0005829]; nucleoplasm [GO:0005654]</td>\n",
       "    </tr>\n",
       "    <tr>\n",
       "      <th>14</th>\n",
       "      <td>Q9BWW4</td>\n",
       "      <td>SSBP3_HUMAN</td>\n",
       "      <td>388</td>\n",
       "      <td>40,421</td>\n",
       "      <td>nucleus [GO:0005634]; protein-containing compl...</td>\n",
       "    </tr>\n",
       "    <tr>\n",
       "      <th>15</th>\n",
       "      <td>Q99873</td>\n",
       "      <td>ANM1_HUMAN</td>\n",
       "      <td>371</td>\n",
       "      <td>42,462</td>\n",
       "      <td>cytoplasm [GO:0005737]; cytosol [GO:0005829]; ...</td>\n",
       "    </tr>\n",
       "    <tr>\n",
       "      <th>16</th>\n",
       "      <td>Q92993</td>\n",
       "      <td>KAT5_HUMAN</td>\n",
       "      <td>513</td>\n",
       "      <td>58,582</td>\n",
       "      <td>NuA4 histone acetyltransferase complex [GO:003...</td>\n",
       "    </tr>\n",
       "    <tr>\n",
       "      <th>17</th>\n",
       "      <td>Q09472</td>\n",
       "      <td>EP300_HUMAN</td>\n",
       "      <td>2414</td>\n",
       "      <td>264,161</td>\n",
       "      <td>chromosome [GO:0005694]; cytosol [GO:0005829];...</td>\n",
       "    </tr>\n",
       "    <tr>\n",
       "      <th>18</th>\n",
       "      <td>Q8N5M1</td>\n",
       "      <td>ATPF2_HUMAN</td>\n",
       "      <td>289</td>\n",
       "      <td>32,772</td>\n",
       "      <td>cytosol [GO:0005829]; mitochondrion [GO:000573...</td>\n",
       "    </tr>\n",
       "  </tbody>\n",
       "</table>\n",
       "</div>"
      ],
      "text/plain": [
       "     Entry   Entry name  Length     Mass  \\\n",
       "0   Q01844    EWS_HUMAN     656   68,478   \n",
       "1   Q13077  TRAF1_HUMAN     416   46,164   \n",
       "2   Q13485  SMAD4_HUMAN     552   60,439   \n",
       "3   P49910  ZN165_HUMAN     485   55,771   \n",
       "4   O95486  SC24A_HUMAN    1093  119,749   \n",
       "5   Q9NS23  RASF1_HUMAN     344   39,219   \n",
       "6   Q12933  TRAF2_HUMAN     501   55,859   \n",
       "7   Q92734    TFG_HUMAN     400   43,448   \n",
       "8   O94855  SC24D_HUMAN    1032  113,010   \n",
       "9   P35637    FUS_HUMAN     526   53,426   \n",
       "10  Q8NDC0  MISSL_HUMAN     245   24,269   \n",
       "11  Q9UBV8   PEF1_HUMAN     284   30,381   \n",
       "12  O15162   PLS1_HUMAN     318   35,049   \n",
       "13  Q9NZ81  PRR13_HUMAN     148   15,385   \n",
       "14  Q9BWW4  SSBP3_HUMAN     388   40,421   \n",
       "15  Q99873   ANM1_HUMAN     371   42,462   \n",
       "16  Q92993   KAT5_HUMAN     513   58,582   \n",
       "17  Q09472  EP300_HUMAN    2414  264,161   \n",
       "18  Q8N5M1  ATPF2_HUMAN     289   32,772   \n",
       "\n",
       "                   Gene ontology (cellular component)  \n",
       "0   cytoplasm [GO:0005737]; nucleolus [GO:0005730]...  \n",
       "1   cytoplasm [GO:0005737]; cytoplasmic side of pl...  \n",
       "2   activin responsive factor complex [GO:0032444]...  \n",
       "3                                nucleus [GO:0005634]  \n",
       "4   COPII vesicle coat [GO:0030127]; cytosol [GO:0...  \n",
       "5   cytoplasm [GO:0005737]; microtubule [GO:000587...  \n",
       "6   CD40 receptor complex [GO:0035631]; cell corte...  \n",
       "7   cytoplasm [GO:0005737]; cytosol [GO:0005829]; ...  \n",
       "8   COPII vesicle coat [GO:0030127]; cytosol [GO:0...  \n",
       "9   dendritic spine head [GO:0044327]; nucleoplasm...  \n",
       "10                                                NaN  \n",
       "11  COPII vesicle coat [GO:0030127]; Cul3-RING ubi...  \n",
       "12  collagen-containing extracellular matrix [GO:0...  \n",
       "13     cytosol [GO:0005829]; nucleoplasm [GO:0005654]  \n",
       "14  nucleus [GO:0005634]; protein-containing compl...  \n",
       "15  cytoplasm [GO:0005737]; cytosol [GO:0005829]; ...  \n",
       "16  NuA4 histone acetyltransferase complex [GO:003...  \n",
       "17  chromosome [GO:0005694]; cytosol [GO:0005829];...  \n",
       "18  cytosol [GO:0005829]; mitochondrion [GO:000573...  "
      ]
     },
     "execution_count": 15,
     "metadata": {},
     "output_type": "execute_result"
    }
   ],
   "source": [
    "# Convert the last search result into a dataframe in Pandas\n",
    "df = pd.read_table(io.StringIO(result))\n",
    "\n",
    "# View the dataframe\n",
    "df"
   ]
  },
  {
   "cell_type": "markdown",
   "metadata": {},
   "source": [
    "Doing this will produce a `pandas` dataframe that can be manipulated and analysed just like any other dataframe. We can, for instance, view a histogram of sequence lengths from the table above:"
   ]
  },
  {
   "cell_type": "code",
   "execution_count": 16,
   "metadata": {},
   "outputs": [
    {
     "data": {
      "image/png": "[encoded data removed]",
      "text/plain": [
       "<Figure size 432x288 with 1 Axes>"
      ]
     },
     "metadata": {
      "needs_background": "light"
     },
     "output_type": "display_data"
    }
   ],
   "source": [
    "# Plot histogram of protein sequence lengths from dataframe\n",
    "df.hist();"
   ]
  },
  {
   "cell_type": "markdown",
   "metadata": {
    "collapsed": true
   },
   "source": [
    "<a id=\"excel\"></a>\n",
    "### Excel\n",
    "\n",
    "<p></p>\n",
    "<div class=\"alert-success\">\n",
    "    <b>You can download Excel spreadsheets directly from <code>UniProt</code>, just as with the browser interface.</b>\n",
    "</div>\n",
    "\n",
    "```python\n",
    "result = service.search(query, frmt=\"xls\")\n",
    "```\n",
    "\n",
    "You can't use the Excel output directly in your code without some file manipulation, and you'll have to save it to a file, as in the example below. Also, the downloaded format is not guaranteed to be current for your version of Excel, and the application may ask to repair it. But, if you want Excel output to share with/display to others, you can get it programmatically.\n",
    "\n",
    "<p></p>\n",
    "<div class=\"alert-danger\">\n",
    "<b>NOTE: the downloaded format is actually `.xlsx`, rather than `.xls` which is implied by the format</b>\n",
    "</div>"
   ]
  },
  {
   "cell_type": "code",
   "execution_count": 17,
   "metadata": {},
   "outputs": [],
   "source": [
    "# Make a query string, and run a remote search at UniProt,\n",
    "# getting the result as an Excel spreadsheer\n",
    "query = \"Q01844\"\n",
    "result = service.search(query, frmt=\"xls\")\n",
    "\n",
    "# Write the Excel spreadsheet to file\n",
    "outfile = '../assets/downloads/Q01844.xlsx'\n",
    "with open(outfile, 'wb') as ofh:\n",
    "    ofh.write(result)"
   ]
  },
  {
   "cell_type": "markdown",
   "metadata": {},
   "source": [
    "<a id=\"fasta\"></a>\n",
    "### FASTA sequence\n",
    "\n",
    "<p></p>\n",
    "<div class=\"alert-success\">\n",
    "<b>If you're interested only in the FASTA format sequence for an entry, you can use the <code>fasta</code> option with <code>frmt</code> to recover the sequences directly, as in the example below:</b>\n",
    "</div>"
   ]
  },
  {
   "cell_type": "code",
   "execution_count": 18,
   "metadata": {},
   "outputs": [
    {
     "name": "stdout",
     "output_type": "stream",
     "text": [
      ">sp|P27104|ANF_HORSE Natriuretic peptides A OS=Equus caballus OX=9796 GN=NPPA PE=2 SV=1\n",
      "MGSFSTIMASFLLFLAFQLQGQTRANPVYGSVSNGDLMDFKNLLDRLEDKMPLEDEVMPP\n",
      "QVLSDQSEEERAALSPLPEVPPWTGEVNPAQRDGGALGRGSWDSSDRSALLKSKLRALLA\n",
      "APRSLRRSSCFGGRMDRIGAQSGLGCNSFRYRR\n",
      "\n"
     ]
    }
   ],
   "source": [
    "# Make a query string, and run a remote search at UniProt,\n",
    "# getting the result as FASTA sequence\n",
    "query = \"go:membrane organism:horse tissue:heart reviewed:yes\"\n",
    "result = service.search(query, frmt=\"fasta\")\n",
    "\n",
    "# Inspect the result\n",
    "print(result)"
   ]
  },
  {
   "cell_type": "markdown",
   "metadata": {},
   "source": [
    "<a id=\"pandas\"></a>\n",
    "### `pandas` dataframe\n",
    "\n",
    "<p></p>\n",
    "<div class=\"alert-success\">\n",
    "    <b>In addition to the conversion of tabular output to a <code>pandas</code> dataframe above, you can ask the <code>UniProt()</code> instance to return a <code>pandas</code> dataframe directly, with the <code>.get_df()</code> method.</b>\n",
    "</div>\n",
    "\n",
    "```python\n",
    "result = service.get_df(query)\n",
    "```\n",
    "\n",
    "However, this is slow compared to the other methods above and can take a long time for queries with thousands of results"
   ]
  },
  {
   "cell_type": "code",
   "execution_count": 19,
   "metadata": {
    "scrolled": true
   },
   "outputs": [
    {
     "name": "stderr",
     "output_type": "stream",
     "text": [
      "\u001b[33mWARNING [bioservices:UniProt]: \u001b[0m \u001b[34mcolumn could not be parsed. Subcellular location\u001b[0m\n"
     ]
    },
    {
     "data": {
      "text/html": [
       "<div>\n",
       "<style scoped>\n",
       "    .dataframe tbody tr th:only-of-type {\n",
       "        vertical-align: middle;\n",
       "    }\n",
       "\n",
       "    .dataframe tbody tr th {\n",
       "        vertical-align: top;\n",
       "    }\n",
       "\n",
       "    .dataframe thead th {\n",
       "        text-align: right;\n",
       "    }\n",
       "</style>\n",
       "<table border=\"1\" class=\"dataframe\">\n",
       "  <thead>\n",
       "    <tr style=\"text-align: right;\">\n",
       "      <th></th>\n",
       "      <th>Entry</th>\n",
       "      <th>Entry name</th>\n",
       "      <th>Gene names</th>\n",
       "      <th>Gene names  (primary )</th>\n",
       "      <th>Gene names  (synonym )</th>\n",
       "      <th>Gene names  (ordered locus )</th>\n",
       "      <th>Gene names  (ORF )</th>\n",
       "      <th>Organism</th>\n",
       "      <th>Organism ID</th>\n",
       "      <th>Protein names</th>\n",
       "      <th>...</th>\n",
       "      <th>Taxonomic lineage IDs (GENUS)</th>\n",
       "      <th>Taxonomic lineage IDs (SUBGENUS)</th>\n",
       "      <th>Taxonomic lineage IDs (SPECIES GROUP)</th>\n",
       "      <th>Taxonomic lineage IDs (SPECIES SUBGROUP)</th>\n",
       "      <th>Taxonomic lineage IDs (SPECIES)</th>\n",
       "      <th>Taxonomic lineage IDs (SUBSPECIES)</th>\n",
       "      <th>Taxonomic lineage IDs (VARIETAS)</th>\n",
       "      <th>Taxonomic lineage IDs (FORMA)</th>\n",
       "      <th>Cross-reference (db_abbrev)</th>\n",
       "      <th>Cross-reference (EMBL)</th>\n",
       "    </tr>\n",
       "  </thead>\n",
       "  <tbody>\n",
       "    <tr>\n",
       "      <th>0</th>\n",
       "      <td>P0DKR6</td>\n",
       "      <td>3SX1_DENPO</td>\n",
       "      <td>[]</td>\n",
       "      <td>NaN</td>\n",
       "      <td>NaN</td>\n",
       "      <td>NaN</td>\n",
       "      <td>NaN</td>\n",
       "      <td>Dendroaspis polylepis polylepis (Black mamba)</td>\n",
       "      <td>8620</td>\n",
       "      <td>Mambalgin-1 (Mamb-1) (Pi-Dp1)</td>\n",
       "      <td>...</td>\n",
       "      <td>8617</td>\n",
       "      <td>NaN</td>\n",
       "      <td>NaN</td>\n",
       "      <td>NaN</td>\n",
       "      <td>8624.0</td>\n",
       "      <td>NaN</td>\n",
       "      <td>NaN</td>\n",
       "      <td>NaN</td>\n",
       "      <td>NaN</td>\n",
       "      <td>JX428743;</td>\n",
       "    </tr>\n",
       "    <tr>\n",
       "      <th>1</th>\n",
       "      <td>P00981</td>\n",
       "      <td>VKTHK_DENPO</td>\n",
       "      <td>[]</td>\n",
       "      <td>NaN</td>\n",
       "      <td>NaN</td>\n",
       "      <td>NaN</td>\n",
       "      <td>NaN</td>\n",
       "      <td>Dendroaspis polylepis polylepis (Black mamba)</td>\n",
       "      <td>8620</td>\n",
       "      <td>Kunitz-type serine protease inhibitor homolog ...</td>\n",
       "      <td>...</td>\n",
       "      <td>8617</td>\n",
       "      <td>NaN</td>\n",
       "      <td>NaN</td>\n",
       "      <td>NaN</td>\n",
       "      <td>8624.0</td>\n",
       "      <td>NaN</td>\n",
       "      <td>NaN</td>\n",
       "      <td>NaN</td>\n",
       "      <td>NaN</td>\n",
       "      <td>S61886;</td>\n",
       "    </tr>\n",
       "    <tr>\n",
       "      <th>2</th>\n",
       "      <td>P0C1Z0</td>\n",
       "      <td>3SE2_DENAN</td>\n",
       "      <td>[]</td>\n",
       "      <td>NaN</td>\n",
       "      <td>NaN</td>\n",
       "      <td>NaN</td>\n",
       "      <td>NaN</td>\n",
       "      <td>Dendroaspis angusticeps (Eastern green mamba) ...</td>\n",
       "      <td>8618</td>\n",
       "      <td>Fasciculin-2 (Fas-2) (Fas2) (Acetylcholinester...</td>\n",
       "      <td>...</td>\n",
       "      <td>8617</td>\n",
       "      <td>NaN</td>\n",
       "      <td>NaN</td>\n",
       "      <td>NaN</td>\n",
       "      <td>NaN</td>\n",
       "      <td>NaN</td>\n",
       "      <td>NaN</td>\n",
       "      <td>NaN</td>\n",
       "      <td>NaN</td>\n",
       "      <td>NaN</td>\n",
       "    </tr>\n",
       "    <tr>\n",
       "      <th>3</th>\n",
       "      <td>P0C6E8</td>\n",
       "      <td>VM3G1_TRIGA</td>\n",
       "      <td>[]</td>\n",
       "      <td>NaN</td>\n",
       "      <td>NaN</td>\n",
       "      <td>NaN</td>\n",
       "      <td>NaN</td>\n",
       "      <td>Trimeresurus gramineus (Bamboo pit viper) (Ind...</td>\n",
       "      <td>8767</td>\n",
       "      <td>Zinc metalloproteinase/disintegrin [Cleaved in...</td>\n",
       "      <td>...</td>\n",
       "      <td>8764</td>\n",
       "      <td>NaN</td>\n",
       "      <td>NaN</td>\n",
       "      <td>NaN</td>\n",
       "      <td>NaN</td>\n",
       "      <td>NaN</td>\n",
       "      <td>NaN</td>\n",
       "      <td>NaN</td>\n",
       "      <td>NaN</td>\n",
       "      <td>NaN</td>\n",
       "    </tr>\n",
       "    <tr>\n",
       "      <th>4</th>\n",
       "      <td>P85092</td>\n",
       "      <td>3SI1A_DENAN</td>\n",
       "      <td>[]</td>\n",
       "      <td>NaN</td>\n",
       "      <td>NaN</td>\n",
       "      <td>NaN</td>\n",
       "      <td>NaN</td>\n",
       "      <td>Dendroaspis angusticeps (Eastern green mamba) ...</td>\n",
       "      <td>8618</td>\n",
       "      <td>Toxin AdTx1 (Rho-elapitoxin-Da1a) (Rho-Da1a) (...</td>\n",
       "      <td>...</td>\n",
       "      <td>8617</td>\n",
       "      <td>NaN</td>\n",
       "      <td>NaN</td>\n",
       "      <td>NaN</td>\n",
       "      <td>NaN</td>\n",
       "      <td>NaN</td>\n",
       "      <td>NaN</td>\n",
       "      <td>NaN</td>\n",
       "      <td>NaN</td>\n",
       "      <td>NaN</td>\n",
       "    </tr>\n",
       "  </tbody>\n",
       "</table>\n",
       "<p>5 rows × 179 columns</p>\n",
       "</div>"
      ],
      "text/plain": [
       "    Entry   Entry name Gene names Gene names  (primary )  \\\n",
       "0  P0DKR6   3SX1_DENPO         []                    NaN   \n",
       "1  P00981  VKTHK_DENPO         []                    NaN   \n",
       "2  P0C1Z0   3SE2_DENAN         []                    NaN   \n",
       "3  P0C6E8  VM3G1_TRIGA         []                    NaN   \n",
       "4  P85092  3SI1A_DENAN         []                    NaN   \n",
       "\n",
       "   Gene names  (synonym )  Gene names  (ordered locus ) Gene names  (ORF )  \\\n",
       "0                     NaN                           NaN                NaN   \n",
       "1                     NaN                           NaN                NaN   \n",
       "2                     NaN                           NaN                NaN   \n",
       "3                     NaN                           NaN                NaN   \n",
       "4                     NaN                           NaN                NaN   \n",
       "\n",
       "                                            Organism  Organism ID  \\\n",
       "0      Dendroaspis polylepis polylepis (Black mamba)         8620   \n",
       "1      Dendroaspis polylepis polylepis (Black mamba)         8620   \n",
       "2  Dendroaspis angusticeps (Eastern green mamba) ...         8618   \n",
       "3  Trimeresurus gramineus (Bamboo pit viper) (Ind...         8767   \n",
       "4  Dendroaspis angusticeps (Eastern green mamba) ...         8618   \n",
       "\n",
       "                                       Protein names  ...  \\\n",
       "0                      Mambalgin-1 (Mamb-1) (Pi-Dp1)  ...   \n",
       "1  Kunitz-type serine protease inhibitor homolog ...  ...   \n",
       "2  Fasciculin-2 (Fas-2) (Fas2) (Acetylcholinester...  ...   \n",
       "3  Zinc metalloproteinase/disintegrin [Cleaved in...  ...   \n",
       "4  Toxin AdTx1 (Rho-elapitoxin-Da1a) (Rho-Da1a) (...  ...   \n",
       "\n",
       "   Taxonomic lineage IDs (GENUS) Taxonomic lineage IDs (SUBGENUS)  \\\n",
       "0                           8617                              NaN   \n",
       "1                           8617                              NaN   \n",
       "2                           8617                              NaN   \n",
       "3                           8764                              NaN   \n",
       "4                           8617                              NaN   \n",
       "\n",
       "   Taxonomic lineage IDs (SPECIES GROUP)  \\\n",
       "0                                    NaN   \n",
       "1                                    NaN   \n",
       "2                                    NaN   \n",
       "3                                    NaN   \n",
       "4                                    NaN   \n",
       "\n",
       "   Taxonomic lineage IDs (SPECIES SUBGROUP) Taxonomic lineage IDs (SPECIES)  \\\n",
       "0                                       NaN                          8624.0   \n",
       "1                                       NaN                          8624.0   \n",
       "2                                       NaN                             NaN   \n",
       "3                                       NaN                             NaN   \n",
       "4                                       NaN                             NaN   \n",
       "\n",
       "   Taxonomic lineage IDs (SUBSPECIES) Taxonomic lineage IDs (VARIETAS)  \\\n",
       "0                                 NaN                              NaN   \n",
       "1                                 NaN                              NaN   \n",
       "2                                 NaN                              NaN   \n",
       "3                                 NaN                              NaN   \n",
       "4                                 NaN                              NaN   \n",
       "\n",
       "  Taxonomic lineage IDs (FORMA)  Cross-reference (db_abbrev)  \\\n",
       "0                           NaN                          NaN   \n",
       "1                           NaN                          NaN   \n",
       "2                           NaN                          NaN   \n",
       "3                           NaN                          NaN   \n",
       "4                           NaN                          NaN   \n",
       "\n",
       "   Cross-reference (EMBL)  \n",
       "0               JX428743;  \n",
       "1                 S61886;  \n",
       "2                     NaN  \n",
       "3                     NaN  \n",
       "4                     NaN  \n",
       "\n",
       "[5 rows x 179 columns]"
      ]
     },
     "execution_count": 19,
     "metadata": {},
     "output_type": "execute_result"
    }
   ],
   "source": [
    "# Get a dataframe for all venom proteins from snakes (or mambas, if \"snake\" is not in the annotation)\n",
    "df = service.get_df('tissue:venom (organism:viper OR organism:mamba)', limit=None)\n",
    "\n",
    "# View the dataframe\n",
    "df.head()"
   ]
  },
  {
   "cell_type": "markdown",
   "metadata": {},
   "source": [
    "This dataframe works like any other dataframe. You can get a complete list of returned columns:"
   ]
  },
  {
   "cell_type": "code",
   "execution_count": 20,
   "metadata": {},
   "outputs": [
    {
     "name": "stdout",
     "output_type": "stream",
     "text": [
      "['Entry', 'Entry name', 'Gene names', 'Gene names  (primary )', 'Gene names  (synonym )', 'Gene names  (ordered locus )', 'Gene names  (ORF )', 'Organism', 'Organism ID', 'Protein names', 'Proteomes', 'Taxonomic lineage (ALL)', 'Taxonomic lineage IDs', 'Virus hosts', 'Sequence', 'Length', 'Mass', 'Gene encoded by', 'Alternative products (isoforms)', 'Erroneous gene model prediction', 'Erroneous initiation', 'Erroneous termination', 'Erroneous translation', 'Frameshift', 'Mass spectrometry', 'Polymorphism', 'RNA editing', 'Sequence caution', 'Alternative sequence', 'Natural variant', 'Non-adjacent residues', 'Non-standard residue', 'Non-terminal residue', 'Sequence conflict', 'Sequence uncertainty', 'Version (sequence)', 'Domains', 'Domain count', 'Domain [CC]', 'Sequence similarities', 'Coiled coil', 'Compositional bias', 'Domain [FT]', 'Motif', 'Region', 'Repeat', 'Zinc finger', 'EC number', 'Absorption', 'Catalytic activity', 'Cofactor', 'General annotation (ENZYME REGULATION)', 'Function [CC]', 'Kinetics', 'Pathway', 'Redox potential', 'Temperature dependence', 'pH dependence', 'Active site', 'Binding site', 'DNA binding', 'Metal binding', 'Nucleotide binding', 'Site', 'Gene ontology (GO)', 'Gene ontology (biological process)', 'Gene ontology (molecular function)', 'Gene ontology (cellular component)', 'Gene ontology IDs', 'InterPro', 'Interacts with', 'Subunit structure [CC]', 'PubMed ID', 'Mapped PubMed ID', 'Date of creation', 'Date of last modification', 'Date of last sequence modification', 'Version (entry)', '3D', 'Beta strand', 'Helix', 'Turn', 'Subcellular location [CC]', 'Intramembrane', 'Topological domain', 'Transmembrane', 'Annotation', 'Features', 'Caution', 'Tissue specificity', 'Miscellaneous [CC]', 'Keywords', 'Protein existence', 'Status', 'Sequence annotation (Features)', 'Protein families', 'Version', 'Comments', 'Cross-reference (null)', 'Keyword ID', 'Pathway.1', 'Allergenic properties', 'Biotechnological use', 'Disruption phenotype', 'Involvement in disease', 'Pharmaceutical use', 'Toxic dose', 'Post-translational modification', 'Chain', 'Cross-link', 'Disulfide bond', 'Glycosylation', 'Initiator methionine', 'Lipidation', 'Modified residue', 'Peptide', 'Propeptide', 'Signal peptide', 'Transit peptide', 'Taxonomic lineage (all)', 'Taxonomic lineage (SUPERKINGDOM)', 'Taxonomic lineage (KINGDOM)', 'Taxonomic lineage (SUBKINGDOM)', 'Taxonomic lineage (SUPERPHYLUM)', 'Taxonomic lineage (PHYLUM)', 'Taxonomic lineage (SUBPHYLUM)', 'Taxonomic lineage (SUPERCLASS)', 'Taxonomic lineage (CLASS)', 'Taxonomic lineage (SUBCLASS)', 'Taxonomic lineage (INFRACLASS)', 'Taxonomic lineage (SUPERORDER)', 'Taxonomic lineage (ORDER)', 'Taxonomic lineage (SUBORDER)', 'Taxonomic lineage (INFRAORDER)', 'Taxonomic lineage (PARVORDER)', 'Taxonomic lineage (SUPERFAMILY)', 'Taxonomic lineage (FAMILY)', 'Taxonomic lineage (SUBFAMILY)', 'Taxonomic lineage (TRIBE)', 'Taxonomic lineage (SUBTRIBE)', 'Taxonomic lineage (GENUS)', 'Taxonomic lineage (SUBGENUS)', 'Taxonomic lineage (SPECIES GROUP)', 'Taxonomic lineage (SPECIES SUBGROUP)', 'Taxonomic lineage (SPECIES)', 'Taxonomic lineage (SUBSPECIES)', 'Taxonomic lineage (VARIETAS)', 'Taxonomic lineage (FORMA)', 'Taxonomic lineage IDs (all)', 'Taxonomic lineage IDs (SUPERKINGDOM)', 'Taxonomic lineage IDs (KINGDOM)', 'Taxonomic lineage IDs (SUBKINGDOM)', 'Taxonomic lineage IDs (SUPERPHYLUM)', 'Taxonomic lineage IDs (PHYLUM)', 'Taxonomic lineage IDs (SUBPHYLUM)', 'Taxonomic lineage IDs (SUPERCLASS)', 'Taxonomic lineage IDs (CLASS)', 'Taxonomic lineage IDs (SUBCLASS)', 'Taxonomic lineage IDs (INFRACLASS)', 'Taxonomic lineage IDs (SUPERORDER)', 'Taxonomic lineage IDs (ORDER)', 'Taxonomic lineage IDs (SUBORDER)', 'Taxonomic lineage IDs (INFRAORDER)', 'Taxonomic lineage IDs (PARVORDER)', 'Taxonomic lineage IDs (SUPERFAMILY)', 'Taxonomic lineage IDs (FAMILY)', 'Taxonomic lineage IDs (SUBFAMILY)', 'Taxonomic lineage IDs (TRIBE)', 'Taxonomic lineage IDs (SUBTRIBE)', 'Taxonomic lineage IDs (GENUS)', 'Taxonomic lineage IDs (SUBGENUS)', 'Taxonomic lineage IDs (SPECIES GROUP)', 'Taxonomic lineage IDs (SPECIES SUBGROUP)', 'Taxonomic lineage IDs (SPECIES)', 'Taxonomic lineage IDs (SUBSPECIES)', 'Taxonomic lineage IDs (VARIETAS)', 'Taxonomic lineage IDs (FORMA)', 'Cross-reference (db_abbrev)', 'Cross-reference (EMBL)']\n"
     ]
    }
   ],
   "source": [
    "print(list(df.columns))"
   ]
  },
  {
   "cell_type": "markdown",
   "metadata": {},
   "source": [
    "Or, for instance, the number of rows and columns in the results:"
   ]
  },
  {
   "cell_type": "code",
   "execution_count": 21,
   "metadata": {
    "scrolled": true
   },
   "outputs": [
    {
     "name": "stdout",
     "output_type": "stream",
     "text": [
      "(1128, 179)\n"
     ]
    }
   ],
   "source": [
    "print(df.shape)"
   ]
  },
  {
   "cell_type": "markdown",
   "metadata": {},
   "source": [
    "and use the convenient features of a dataframe, such as built-in plotting:"
   ]
  },
  {
   "cell_type": "code",
   "execution_count": 22,
   "metadata": {},
   "outputs": [
    {
     "data": {
      "image/png": "[encoded data removed]",
      "text/plain": [
       "<Figure size 432x288 with 1 Axes>"
      ]
     },
     "metadata": {
      "needs_background": "light"
     },
     "output_type": "display_data"
    }
   ],
   "source": [
    "# Construct a histogram of returned sequence lengths\n",
    "df.hist('Length', bins=100);"
   ]
  },
  {
   "cell_type": "markdown",
   "metadata": {},
   "source": [
    "and grouping/subsetting:"
   ]
  },
  {
   "cell_type": "code",
   "execution_count": 23,
   "metadata": {
    "scrolled": false
   },
   "outputs": [
    {
     "data": {
      "image/png": "[encoded data removed]",
      "text/plain": [
       "<Figure size 432x288 with 1 Axes>"
      ]
     },
     "metadata": {
      "needs_background": "light"
     },
     "output_type": "display_data"
    }
   ],
   "source": [
    "# Subset out pit vipers\n",
    "coral = df.loc[df[\"Organism\"].str.contains(\"pit viper\")]\n",
    "coral.head()\n",
    "\n",
    "# Plot a strip plot of sequence size by organism in the dataframe\n",
    "output = sns.stripplot(y=\"Organism\", x=\"Length\",\n",
    "                       data=coral)  # Render strip plot"
   ]
  },
  {
   "cell_type": "markdown",
   "metadata": {},
   "source": [
    "<img src=\"../assets/images/exercise.png\" style=\"width: 100px; float: left;\">\n",
    "\n",
    "<a id=\"ex03\"></a>\n",
    "### Exercise 03 (10min)\n",
    "\n",
    "Can you use `bioservices`, `UniProt` and `pandas` to:\n",
    "\n",
    "<br />\n",
    "<p></p>\n",
    "<div class=\"alert-danger\"><b>\n",
    "    <ul>\n",
    "        <li> download a dataframe for all proteins that have \"rxlr\" in their name\n",
    "        <li> render a violin plot (<code>sns.violinplot()</code>) that shows the distribution of protein lengths grouped according to the evidence for the protein\n",
    "    </ul>\n",
    "</b></div>"
   ]
  },
  {
   "cell_type": "code",
   "execution_count": 24,
   "metadata": {},
   "outputs": [
    {
     "name": "stderr",
     "output_type": "stream",
     "text": [
      "\u001b[33mWARNING [bioservices:UniProt]: \u001b[0m \u001b[34mcolumn could not be parsed. Subcellular location\u001b[0m\n"
     ]
    },
    {
     "data": {
      "image/png": "[encoded data removed]",
      "text/plain": [
       "<Figure size 432x288 with 1 Axes>"
      ]
     },
     "metadata": {
      "needs_background": "light"
     },
     "output_type": "display_data"
    }
   ],
   "source": [
    "# SOLUTION - EXERCISE 03\n",
    "\n",
    "# Get dataframe\n",
    "df = service.get_df(\"name:rxlr\", limit=None)\n",
    "\n",
    "# Draw violin plot\n",
    "output = sns.violinplot(y=\"Protein existence\", x=\"Length\", data=df)\n",
    "\n",
    "# Profit"
   ]
  },
  {
   "cell_type": "code",
   "execution_count": null,
   "metadata": {},
   "outputs": [],
   "source": []
  }
 ],
 "metadata": {
  "kernelspec": {
   "display_name": "Python 3",
   "language": "python",
   "name": "python3"
  },
  "language_info": {
   "codemirror_mode": {
    "name": "ipython",
    "version": 3
   },
   "file_extension": ".py",
   "mimetype": "text/x-python",
   "name": "python",
   "nbconvert_exporter": "python",
   "pygments_lexer": "ipython3",
   "version": "3.7.9"
  }
 },
 "nbformat": 4,
 "nbformat_minor": 2
}
