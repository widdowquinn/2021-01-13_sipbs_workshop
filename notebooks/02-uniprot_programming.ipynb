{
 "cells": [
  {
   "cell_type": "markdown",
   "metadata": {},
   "source": [
    "<img src=\"../assets/images/science_logo_400x400.jpg\" style=\"width: 150px; float: right;\">\n",
    "\n",
    "# 02 - Programming for `UniProt` (browser/notebook)"
   ]
  },
  {
   "cell_type": "markdown",
   "metadata": {},
   "source": [
    "## Table of Contents\n",
    "\n",
    "1. [Introduction](#introduction)\n",
    "2. [Python imports](#imports)\n",
    "3. [Running a remote `UniProt` query](#uniprot)\n",
    "  1. [Connecting to `UniProt`](#connect)\n",
    "  2. [Constructing a query](#query)\n",
    "  3. [Perform the query](#search)\n",
    "  4. [EXAMPLE: Putting it together](#example01)\n",
    "4. [Advanced queries](#advanced)\n",
    "  1. [`key:value` queries](#keyvalue)\n",
    "  2. [Exercise 01](#ex01)\n",
    "  3. [Combining queries](#combine)\n",
    "  4. [Exercise 02](#ex02)  \n",
    "4. [Processing query results](#processing)\n",
    "  1. [Tabular](#tabular)\n",
    "  2. [Excel](#excel)  \n",
    "  3. [FASTA sequence](#fasta)\n",
    "  4. [`pandas` dataframe](#pandas)"
   ]
  },
  {
   "cell_type": "markdown",
   "metadata": {},
   "source": [
    "<a id=\"introduction\"></a>\n",
    "## Introduction\n",
    "\n",
    "The `UniProt` browser interface is very powerful, but you will have noticed from the previous exercises that even the most complex queries can be converted into a single string that describes the search being made of the `UniProt` databases. Using the browser interface, this string is generated for you, and placed into the search field at the top of the `UniProt` webpage every time you run a search.\n",
    "\n",
    "<p></p>\n",
    "<div class=\"alert-danger\">\n",
    "<b>It can be tedious and time-consuming to point-and-click your way through a large number of browser-based searches, but by using the <code>UniProt</code> <i>webservice</i>, the search strings you've already seen, and a Python module called <code>bioservices</code>, we can compose and run as many searches as we like using a small amount of code, and pull the results of those searches down to our local machines.</b>\n",
    "</div>\n",
    "\n",
    "This notebook presents examples of methods for using `UniProt` programmatically, via a *webservice*, and you will be controlling the searches using Python code in this notebook.\n",
    "\n",
    "There are a number of advantages to this approach:\n",
    "\n",
    "<p></p>\n",
    "<div class=\"alert-success\"><b>\n",
    "    <ul>\n",
    "        <li> It is easy to set up repeatable searches for many sequences, or collections of sequences\n",
    "        <li> It is easy to read in the search results and conduct downstream analyses that add value to your search\n",
    "    </ul>\n",
    "</b></div>\n",
    "\n",
    "Where it is not practical to submit a large number of simultaneous queries via a web form (because it is tiresome to point-and-click over and over again), this can be handled programmatically instead. You have the opportunity to change custom options to help refine your query, compared to the website interface. If you need to repeat a query, it can be trivial to apply the same settings every time, if you use a programmatic approach."
   ]
  },
  {
   "cell_type": "markdown",
   "metadata": {},
   "source": [
    "<a id=\"imports\"></a>\n",
    "## Python imports\n",
    "\n",
    "To use the Python programming language to query `UniProt`, we have to *import* helpful *packages* (collections of Python code that perform specialised tasks.\n",
    "\n",
    "```python\n",
    "import io  # io is a standard library package that lets us manipulate data\n",
    "\n",
    "import pandas as pd  # Import Pandas, so we can use dataframes\n",
    "import seaborn as sns  # Import Seaborn for graphics and plotting\n",
    "\n",
    "# Import bioservices module, to run remote UniProt queries\n",
    "from bioservices import UniProt\n",
    "```"
   ]
  },
  {
   "cell_type": "code",
   "execution_count": null,
   "metadata": {},
   "outputs": [],
   "source": []
  },
  {
   "cell_type": "markdown",
   "metadata": {},
   "source": [
    "<a id=\"uniprot\"></a>\n",
    "## Running a remote `UniProt` query\n",
    "\n",
    "<p></p>\n",
    "<div class=\"alert-success\">\n",
    "    <b>There are three key steps to running a remote <code>UniProt</code> query with <code>bioservices</code>:</b>\n",
    "</div>\n",
    "\n",
    "1. Make a link to the `UniProt` webservice\n",
    "2. Construct a query string\n",
    "3. Send the query to `UniProt`, and catch the result in a *variable*\n",
    "\n",
    "Once the search result is caught and contained in a *variable*, that *variable* can be processed in any way you like, written to a file, or ignored."
   ]
  },
  {
   "cell_type": "markdown",
   "metadata": {},
   "source": [
    "<a id=\"connect\"></a>\n",
    "### Connecting to `UniProt`\n",
    "\n",
    "To open a connection to `UniProt`, you make an *instance* of the `UniProt()` *class* from `bioservices`. This can be made to be persistent so that, once a single connection to the database is created, you can interact with it over and over again to make multiple queries. \n",
    "\n",
    "<p></p>\n",
    "<div class=\"alert-success\">\n",
    "    <b>To make a persistent instance, you can assign <code>UniProt()</code> to a variable:</b>\n",
    "</div>\n",
    "\n",
    "```python\n",
    "service = UniProt() # it is good practice to have a meaningful variable name\n",
    "```"
   ]
  },
  {
   "cell_type": "markdown",
   "metadata": {},
   "source": [
    "<a id=\"query\"></a>\n",
    "### Constructing a query\n",
    "\n",
    "<p></p>\n",
    "<div class=\"alert-success\">\n",
    "    <b><code>UniProt</code> allows for the construction of complex searches by combining <i>fields</i>. A full discussion is beyond the scope of this lesson, but you will have seen in <a href=\"01-uniprot_browser.ipynb\">the preceding notebook</a> that the searches you constructed by pointing and clicking on the <code>UniProt</code> website were converted into text in the search field at the top. </b>\n",
    "</div>\n",
    "\n",
    "To describe the format briefly: there are a set of defined *keywords* (or *keys*) that indicate the specific type of data you want to search in (such as `host`, `annotation`, or sequence `length`), and these are combined with a particular *value* you want to search for (such as `mouse`, or `40674`) in a `key:value` pair, separated by a colon, such as `host:mouse` or `ec:3.2.1.23`.\n",
    "\n",
    "* `UniProt` query fields: [http://www.uniprot.org/help/query-fields](http://www.uniprot.org/help/query-fields)\n",
    "\n",
    "If you provide a string, instead of a `key:value` pair, `UniProt` will search in all *fields* for your search term.\n",
    "\n",
    "Programmatically, we construct the query as a *string*, e.g.\n",
    "\n",
    "```python\n",
    "query = \"Q9AJE3\"  # this query means we want to look in all fields for Q9AJE3\n",
    "```"
   ]
  },
  {
   "cell_type": "markdown",
   "metadata": {},
   "source": [
    "<a id=\"search\"></a>\n",
    "### Perform the query\n",
    "\n",
    "To send the query to `UniProt`, you will use the `.search()` *method* of your active *instance* of the `UniProt()` *class*. \n",
    "\n",
    "<p></p>\n",
    "<div class=\"alert-success\">\n",
    "    <b>If you have assigned your instance to the variable <code>service</code> (as above), then you can run the <code>query</code> string as a remote search with the line:</b>\n",
    "</div>\n",
    "\n",
    "```python\n",
    "result = service.search(query)  # Run a query and catch the output in result\n",
    "```\n",
    "\n",
    "In the line above, the output of the search (i.e. your result) is stored in a new variable (created when the search is complete) called `result`. It is good practice to make variable names short and descriptive - this makes your code easier to read."
   ]
  },
  {
   "cell_type": "markdown",
   "metadata": {},
   "source": [
    "<a id=\"example01\"></a>\n",
    "### EXAMPLE: Putting it together\n",
    "\n",
    "The code below uses the example code above to create an instance of the `UniProt()` class, and uses it to submit a pre-stored query to the `UniProt` service, then catch the result in a variable called `result`. The `print()` statement then shows us what the result returned by the service looks like.\n",
    "\n",
    "```python\n",
    "# Make a link to the UniProt webservice (UniProt())\n",
    "service = UniProt()\n",
    "\n",
    "# Build a query string (\"Q9AJE3\")\n",
    "query = \"Q9AJE3\"\n",
    "\n",
    "# Send the query to UniProt, and catch the search result in a variable (service.search())\n",
    "result = service.search(query)\n",
    "\n",
    "# Inspect the result\n",
    "print(result)\n",
    "```"
   ]
  },
  {
   "cell_type": "code",
   "execution_count": null,
   "metadata": {},
   "outputs": [],
   "source": []
  },
  {
   "cell_type": "markdown",
   "metadata": {},
   "source": [
    "The `UniProt()` instance defined in the cell above is *persistent*, so you can reuse it to make another query, as below:\n",
    "\n",
    "```python\n",
    "# Make a new query string \"Q01844\", and run a remote search at UniProt\n",
    "new_query = \"Q01844\"\n",
    "new_result = service.search(new_query)\n",
    "\n",
    "# Inspect the result\n",
    "print(new_result)\n",
    "```"
   ]
  },
  {
   "cell_type": "code",
   "execution_count": null,
   "metadata": {
    "scrolled": true
   },
   "outputs": [],
   "source": []
  },
  {
   "cell_type": "markdown",
   "metadata": {},
   "source": [
    "<a id=\"advanced\"></a>\n",
    "## Advanced queries\n",
    "\n",
    "<p></p>\n",
    "<div class=\"alert-success\">\n",
    "<b>The examples above built queries that were simple strings. They did not exploit the <code>key:value</code> search structure, or combine search terms. In this section, you will explore some queries that use the <code>UniProt</code> query fields, and combine them into powerful, filtering searches.</b>\n",
    "</div>"
   ]
  },
  {
   "cell_type": "markdown",
   "metadata": {},
   "source": [
    "<a id=\"keyvalue\"></a>\n",
    "### `key:value` queries\n",
    "\n",
    "As noted above (and at [http://www.uniprot.org/help/query-fields](http://www.uniprot.org/help/query-fields)) particular values of specific data can be requested by using `key:value` pairs to restrict searches to named *fields* in the `UniProt` database.\n",
    "\n",
    "As a first example, you will note that the result returned for the query `\"Q01844\"` has multiple entries. Only one of these is the sequence with `accession` value equal to `\"Q01844\"`, but the other entries make reference to this sequence somewhere in their database record. If we want to restrict our result only to the particular entry `\"Q01844\"`, we can specify the field we want to search as `accession`, and build the following query:\n",
    "\n",
    "```python\n",
    "query = \"accession:Q01844\"  # specify a search on the accession field\n",
    "```\n",
    "\n",
    "Note that we can use the same variable name `query` as earlier (this overwrites the previous value in `query`). The code below runs the search and shows the output:\n",
    "\n",
    "```python\n",
    "# Make a new query string (\"accession:Q01844\"), and run a remote search at UniProt\n",
    "query = \"accession:Q01844\"\n",
    "result = service.search(query)\n",
    "\n",
    "# Inspect the result\n",
    "print(result)\n",
    "```"
   ]
  },
  {
   "cell_type": "code",
   "execution_count": null,
   "metadata": {},
   "outputs": [],
   "source": []
  },
  {
   "cell_type": "markdown",
   "metadata": {},
   "source": [
    "<div class=\"alert-success\">\n",
    "    <b>By using this and other <code>key:value</code> constructions, we can refine our searches to give us only the entries we're interested in</b>\n",
    "</div>"
   ]
  },
  {
   "cell_type": "markdown",
   "metadata": {},
   "source": [
    "<img src=\"../assets/images/exercise.png\" style=\"width: 100px; float: left;\">\n",
    "\n",
    "<a id=\"ex01\"></a>\n",
    "### Exercise 01 (10min)\n",
    "\n",
    "Using `key:value` searches, can you find and download sets of entries for proteins that satisfy the following requirements? (**HINT:** this <a href=\"http://www.uniprot.org/help/query-fields\">link</a> to the `UniProt` query fields may be helpful, here):\n",
    "\n",
    "<p></p>\n",
    "<div class=\"alert-danger\">\n",
    "<ul>\n",
    "<li> Have publications authored by someone with the surname Broadhurst\n",
    "<li> Have protein length between 9000aa and 9010aa\n",
    "<li> Derive from the taipan snake\n",
    "<li> Have been found in the wing\n",
    "</ul>\n",
    "</div>"
   ]
  },
  {
   "cell_type": "code",
   "execution_count": null,
   "metadata": {
    "scrolled": true
   },
   "outputs": [],
   "source": []
  },
  {
   "cell_type": "code",
   "execution_count": null,
   "metadata": {
    "scrolled": true
   },
   "outputs": [],
   "source": []
  },
  {
   "cell_type": "code",
   "execution_count": null,
   "metadata": {},
   "outputs": [],
   "source": []
  },
  {
   "cell_type": "code",
   "execution_count": null,
   "metadata": {
    "scrolled": true
   },
   "outputs": [],
   "source": []
  },
  {
   "cell_type": "markdown",
   "metadata": {},
   "source": [
    "<a id=\"combine\"></a>\n",
    "### Combining queries\n",
    "\n",
    "<p></p>\n",
    "<div class=\"alert-success\">\n",
    "    <b>Combining terms in a <code>UniProt</code> query can be as straightforward as putting them in the same string, separated by a space.</b>\n",
    "</div>\n",
    "\n",
    "For example:\n",
    "\n",
    "```python\n",
    "query = \"organism:rabbit tissue:eye\"\n",
    "```\n",
    "\n",
    "will search for all entries deriving from rabbits that are found in the eye"
   ]
  },
  {
   "cell_type": "code",
   "execution_count": null,
   "metadata": {
    "scrolled": true
   },
   "outputs": [],
   "source": []
  },
  {
   "cell_type": "markdown",
   "metadata": {},
   "source": [
    "<img src=\"../assets/images/exercise.png\" style=\"width: 100px; float: left;\">\n",
    "\n",
    "<a id=\"ex02\"></a>\n",
    "### Exercise 02 (10min)\n",
    "\n",
    "Using `key:value` searches, can you find and download sets of entries for proteins that satisfy the following requirements? (**HINT:** this <a href=\"http://www.uniprot.org/help/query-fields\">link</a> to the `UniProt` query fields may be helpful, here):\n",
    "\n",
    "<p></p>\n",
    "<div class=\"alert-danger\">\n",
    "<ul>\n",
    "<li> Found in sheep spleen\n",
    "<li> Have \"rxlr\" in their name, have a publication with author name Pritchard, and are between 70aa and 80aa in length\n",
    "<li> Derive from a quokka and have had their annotations manually reviewed\n",
    "<li> Are found in cell membranes of horse heart tissue, and have had their annotations manually reviewed\n",
    "</ul>\n",
    "</div>"
   ]
  },
  {
   "cell_type": "code",
   "execution_count": null,
   "metadata": {
    "scrolled": true
   },
   "outputs": [],
   "source": []
  },
  {
   "cell_type": "code",
   "execution_count": null,
   "metadata": {},
   "outputs": [],
   "source": []
  },
  {
   "cell_type": "code",
   "execution_count": null,
   "metadata": {},
   "outputs": [],
   "source": []
  },
  {
   "cell_type": "markdown",
   "metadata": {},
   "source": [
    "<a id=\"boolean\"></a>\n",
    "### Combining terms with Boolean logic\n",
    "\n",
    "Boolean logic allows you to combine search terms with each other in arbitrary ways using three *operators*, specifying whether:\n",
    "\n",
    "* both terms are required (`AND`) **NOTE:** this is implicitly what you have been doing in the examples above\n",
    "* either term is allowed (`OR`)\n",
    "* a term is disallowed (`NOT`)\n",
    "\n",
    "Searches are read from left-to right, but the logic of a search can be controlled by placing the combinations you want to resolve first in parentheses (`()`). Combining these operators can build some extremely powerful searches. For example, to get all proteins from horses and sheep, identified in the ovary, and having length greater than 200aa, you could use the query:\n",
    "\n",
    "```\n",
    "query = \"tissue:ovary AND (organism:sheep OR organism:horse) NOT length:[1 TO 200]\"\n",
    "```"
   ]
  },
  {
   "cell_type": "markdown",
   "metadata": {},
   "source": [
    "<a id=\"processing\"></a>\n",
    "## Processing query results\n",
    "\n",
    "So far you have worked with the default output from `bioservices`, although you know from [the previous notebook](01-uniprot_browser.ipynb) that `UniProt` can provide output in a number of useful formats for searches in the browser.\n",
    "\n",
    "The default output is `tabular`, and gives a good idea of the nature and content of the entries you recover. In this section, you will see some ways to download search results in alternative formats, which can be useful for analysis.\n",
    "\n",
    "All the output format options are controlled in a similar way, using the `frmt=<format>` argument when you conduct your search - with `<format>` being one of the allowed terms (see the [`bioservices` documentation](https://pythonhosted.org/bioservices/references.html#module-bioservices.uniprot) for a full list)."
   ]
  },
  {
   "cell_type": "markdown",
   "metadata": {},
   "source": [
    "<a id=\"tabular\"></a>\n",
    "### Tabular\n",
    "\n",
    "<p></p>\n",
    "<div class=\"alert-success\">\n",
    "<b>The default datatype is the most flexible datatype for download: <i>tabular</i>.</b>\n",
    "</div>\n",
    "\n",
    "This can be specified explicitly with the `tab` format:\n",
    "\n",
    "```python\n",
    "result = service.search(query, frmt=\"tab\")\n",
    "```"
   ]
  },
  {
   "cell_type": "code",
   "execution_count": null,
   "metadata": {},
   "outputs": [],
   "source": []
  },
  {
   "cell_type": "markdown",
   "metadata": {},
   "source": [
    "By default, the columns that are returned are: `Entry`, `Entry name`, `Status`, `Protein names`, `Gene names`, `Organism`, and `Length`. But these can be modified by passing the `columns=<list>` argument, where the `<list>` is a comma-separated list of column names. For example:\n",
    "\n",
    "```python\n",
    "columnlist = \"id,entry name,length,organism,mass,domains,domain,pathway\"\n",
    "result = service.search(query, frmt=\"tab\", columns=columnlist)\n",
    "```\n",
    "\n",
    "(The list of allowed column names can be found by inspecting the content of the variable `service._valid_columns`.)"
   ]
  },
  {
   "cell_type": "code",
   "execution_count": null,
   "metadata": {},
   "outputs": [],
   "source": []
  },
  {
   "cell_type": "markdown",
   "metadata": {},
   "source": [
    "#### Converting to a dataframe\n",
    "\n",
    "<p></p>\n",
    "<div class=\"alert-success\">\n",
    "    <b>The <code>pandas</code> module allows us to process tabular data into dataframes, just like in <code>R</code>.</b>\n",
    "</div>\n",
    "\n",
    "To do this, we have to use the `io.StringIO()` class to make it think that our downloaded results are a file\n",
    "\n",
    "```python\n",
    "df = pd.read_table(io.StringIO(result))\n",
    "```"
   ]
  },
  {
   "cell_type": "code",
   "execution_count": null,
   "metadata": {},
   "outputs": [],
   "source": []
  },
  {
   "cell_type": "markdown",
   "metadata": {},
   "source": [
    "Doing this will produce a `pandas` dataframe that can be manipulated and analysed just like any other dataframe. We can, for instance, view a histogram of sequence lengths from the table above:"
   ]
  },
  {
   "cell_type": "code",
   "execution_count": null,
   "metadata": {},
   "outputs": [],
   "source": []
  },
  {
   "cell_type": "markdown",
   "metadata": {
    "collapsed": true
   },
   "source": [
    "<a id=\"excel\"></a>\n",
    "### Excel\n",
    "\n",
    "<p></p>\n",
    "<div class=\"alert-success\">\n",
    "    <b>You can download Excel spreadsheets directly from <code>UniProt</code>, just as with the browser interface.</b>\n",
    "</div>\n",
    "\n",
    "```python\n",
    "result = service.search(query, frmt=\"xls\")\n",
    "```\n",
    "\n",
    "You can't use the Excel output directly in your code without some file manipulation, and you'll have to save it to a file, as in the example below. Also, the downloaded format is not guaranteed to be current for your version of Excel, and the application may ask to repair it. But, if you want Excel output to share with/display to others, you can get it programmatically.\n",
    "\n",
    "<p></p>\n",
    "<div class=\"alert-danger\">\n",
    "<b>NOTE: the downloaded format is actually `.xlsx`, rather than `.xls` which is implied by the format</b>\n",
    "</div>"
   ]
  },
  {
   "cell_type": "code",
   "execution_count": null,
   "metadata": {},
   "outputs": [],
   "source": []
  },
  {
   "cell_type": "markdown",
   "metadata": {},
   "source": [
    "<a id=\"fasta\"></a>\n",
    "### FASTA sequence\n",
    "\n",
    "<p></p>\n",
    "<div class=\"alert-success\">\n",
    "<b>If you're interested only in the FASTA format sequence for an entry, you can use the <code>fasta</code> option with <code>frmt</code> to recover the sequences directly, as in the example below:</b>\n",
    "</div>\n",
    "\n",
    "```python\n",
    "# Make a query string, and run a remote search at UniProt,\n",
    "# getting the result as FASTA sequence\n",
    "query = \"go:membrane organism:horse tissue:heart reviewed:yes\"\n",
    "result = service.search(query, frmt=\"fasta\")\n",
    "```"
   ]
  },
  {
   "cell_type": "code",
   "execution_count": null,
   "metadata": {},
   "outputs": [],
   "source": []
  },
  {
   "cell_type": "markdown",
   "metadata": {},
   "source": [
    "<a id=\"pandas\"></a>\n",
    "### `pandas` dataframe\n",
    "\n",
    "<p></p>\n",
    "<div class=\"alert-success\">\n",
    "    <b>In addition to the conversion of tabular output to a <code>pandas</code> dataframe above, you can ask the <code>UniProt()</code> instance to return a <code>pandas</code> dataframe directly, with the <code>.get_df()</code> method.</b>\n",
    "</div>\n",
    "\n",
    "```python\n",
    "result = service.get_df(\"tissue:venom (organism:viper OR organism:mamba)\", limit=None)\n",
    "```\n",
    "\n",
    "However, this is slow compared to the other methods above and can take a long time for queries with thousands of results"
   ]
  },
  {
   "cell_type": "code",
   "execution_count": null,
   "metadata": {
    "scrolled": true
   },
   "outputs": [],
   "source": []
  },
  {
   "cell_type": "markdown",
   "metadata": {},
   "source": [
    "This dataframe works like any other dataframe. You can get a complete list of returned columns:\n",
    "\n",
    "```python\n",
    "print(list(df.columns))\n",
    "```"
   ]
  },
  {
   "cell_type": "code",
   "execution_count": null,
   "metadata": {},
   "outputs": [],
   "source": []
  },
  {
   "cell_type": "markdown",
   "metadata": {},
   "source": [
    "Or, for instance, the number of rows and columns in the results:\n",
    "\n",
    "```python\n",
    "print(df.shape)\n",
    "```"
   ]
  },
  {
   "cell_type": "code",
   "execution_count": null,
   "metadata": {
    "scrolled": true
   },
   "outputs": [],
   "source": []
  },
  {
   "cell_type": "markdown",
   "metadata": {},
   "source": [
    "and use the convenient features of a dataframe, such as built-in plotting:\n",
    "\n",
    "```python\n",
    "# Construct a histogram of returned sequence lengths\n",
    "df.hist('Length', bins=100);\n",
    "```"
   ]
  },
  {
   "cell_type": "code",
   "execution_count": null,
   "metadata": {},
   "outputs": [],
   "source": []
  },
  {
   "cell_type": "markdown",
   "metadata": {},
   "source": [
    "and grouping/subsetting:\n",
    "\n",
    "```python\n",
    "# Subset out pit vipers\n",
    "pits = df.loc[df[\"Organism\"].str.contains(\"pit viper\")]\n",
    "pits.head()\n",
    "\n",
    "# Plot a strip plot of sequence size by organism in the dataframe\n",
    "output = sns.stripplot(y=\"Organism\", x=\"Length\",\n",
    "                       data=pits)  # Render strip plot\n",
    "```"
   ]
  },
  {
   "cell_type": "code",
   "execution_count": null,
   "metadata": {
    "scrolled": false
   },
   "outputs": [],
   "source": []
  },
  {
   "cell_type": "markdown",
   "metadata": {},
   "source": [
    "<img src=\"../assets/images/exercise.png\" style=\"width: 100px; float: left;\">\n",
    "\n",
    "<a id=\"ex03\"></a>\n",
    "### Exercise 03 (10min)\n",
    "\n",
    "Can you use `bioservices`, `UniProt` and `pandas` to:\n",
    "\n",
    "<br />\n",
    "<p></p>\n",
    "<div class=\"alert-danger\"><b>\n",
    "    <ul>\n",
    "        <li> download a dataframe for all proteins that have \"rxlr\" in their name\n",
    "        <li> render a violin plot (<code>sns.violinplot()</code>) that shows the distribution of protein lengths grouped according to the evidence for the protein\n",
    "    </ul>\n",
    "</b></div>"
   ]
  },
  {
   "cell_type": "code",
   "execution_count": null,
   "metadata": {},
   "outputs": [],
   "source": []
  },
  {
   "cell_type": "code",
   "execution_count": null,
   "metadata": {},
   "outputs": [],
   "source": []
  }
 ],
 "metadata": {
  "kernelspec": {
   "display_name": "Python 3",
   "language": "python",
   "name": "python3"
  },
  "language_info": {
   "codemirror_mode": {
    "name": "ipython",
    "version": 3
   },
   "file_extension": ".py",
   "mimetype": "text/x-python",
   "name": "python",
   "nbconvert_exporter": "python",
   "pygments_lexer": "ipython3",
   "version": "3.7.9"
  }
 },
 "nbformat": 4,
 "nbformat_minor": 2
}
