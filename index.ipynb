{
 "cells": [
  {
   "cell_type": "markdown",
   "metadata": {},
   "source": [
    "<img src=\"assets/images/science_logo_400x400.jpg\" style=\"width: 150px; float: right;\">\n",
    "\n",
    "# 2021-01-13 SIPBS Research Day Bioinformatics Workshop\n",
    "\n",
    "<p></p>\n",
    "<div class=\"alert-success\">\n",
    "This repository contains files for a 1hr bioinformatics workshop at the 2021 <a href=\"https://www.strath.ac.uk/science/strathclydeinstituteofpharmacybiomedicalsciences/\">SIPBS</a> Research Day.\n",
    "</div>\n",
    "    \n",
    "The workshop is delivered by Dr Leighton Pritchard, covering queries to the [`UniProt`](https://www.uniprot.org/) database, as a worked example of how public bioinformatics resources can be mined readily and reproducibly using powerful open source tools, in support of your own research.\n",
    "\n",
    "You can run these workshop files at [MyBinder](https://mybinder.org/v2/gh/widdowquinn/2021-01-13_sipbs_workshop/master?filepath=index.ipynb) by clicking on the button below:\n",
    "\n",
    "[![Binder](https://mybinder.org/badge_logo.svg)](https://mybinder.org/v2/gh/widdowquinn/2021-01-13_sipbs_workshop/master?filepath=index.ipynb)\n",
    "\n",
    "## Who is this workshop for?\n",
    "\n",
    "This workshop is for anyone who is \"bioinformatics-curious,\" whether they already do some or all of their own bioinformatics, or are wondering what bioinformatics involves on a practical level. <font color='cornflowerblue'>If you are…</font>\n",
    "\n",
    "- <font color='cornflowerblue'>*a complete novice*</font>: then you might learn about the scope and utility of the `UniProt` database, and see examples of how it can be queried in advanced ways - manually and computationally - to get the information you might need\n",
    "- <font color='cornflowerblue'>*already somewhat familiar with manually searching remote databases*</font>: then you might pick up some new things about `UniProt`, and how to automate this, making your research a little easier\n",
    "- <font color='cornflowerblue'>*familiar with Python*</font>: then you might find out how a new library, like [`bioservices`](https://bioservices.readthedocs.io/en/master/), could be of help to you in your own research\n",
    "\n",
    "## You will need\n",
    "\n",
    "<p></p>\n",
    "<div class=\"alert-warning\">\n",
    "<ul>\n",
    "    <li> <b>A modern web browser (e.g. Mozilla Firefox, Google Chrome, or Microsoft Edge)</b>\n",
    "  <ul>\n",
    "    <li> you may need to use tabs, or have more than one browser window open at the same time\n",
    "      </ul>\n",
    "</ul>\n",
    "</div>\n",
    "\n",
    "We will be running the workshop using the online [`MyBinder`](https://mybinder.org/) cloud service, which will let us run code in the browser. You should not need to install anything new on your own machine.\n",
    "\n",
    "## Learning Objectives\n",
    "\n",
    "- Understand the scope and structure of the [`UniProt`](https://www.uniprot.org/) database\n",
    "  - <font color='darkolivegreen'><b>Select the appropriate database and dataset for your research question</b></font>\n",
    "- Develop practical skills for advanced querying of `UniProt`\n",
    "  - <font color='darkolivegreen'><b>Compose targeted queries to make your data mining easier and more effective</b></font>\n",
    "- Understand how programming languages such as `Python` enable automated, large-scale data mining from public data repositories\n",
    "  - <font color='darkolivegreen'><b>Design and construct short code snippets that automate remote database queries</b></font>\n",
    "- Develop practical skills in `Python` to automate queries to remote databases\n",
    "  - <font color='darkolivegreen'><b>Classify results and compute summary statistics relevant to research questions</b></font>"
   ]
  },
  {
   "cell_type": "markdown",
   "metadata": {},
   "source": [
    "\n",
    "## Workshop Sections\n",
    "\n",
    "* [01.  `UniProt` (`browser`)](notebooks/01-uniprot_browser.ipynb)\n",
    "* [02.  Programming for `UniProt` (`notebook`)](notebooks/02-uniprot_programming.ipynb)\n",
    "\n",
    "### Learning Outcomes\n",
    "\n",
    "* Programmatic control of common bioinformatics tools\n",
    "* Programmatic querying of online bioinformatics resources\n",
    "* Analysis of bioinformatics database query output with `pandas`\n",
    "* Visualisation of bioinformatics database query output with `biopython` and `seaborn`\n",
    "* Interpretation of bioinformatics database query output"
   ]
  },
  {
   "cell_type": "markdown",
   "metadata": {},
   "source": [
    "## How are we doing this?\n",
    "\n",
    "The workshop will be presented over Zoom, and you will be following along by working through the materials and examples in a modern browser (such as Chrome, Mozilla Firefox, or Microsoft Edge). You will need to have two windows open - this could be across two monitors, or on a single screen. You might want to use a second device, e.g. a tablet or phone, to follow the Zoom component and give you maximum screen space for your browser/coding session. On a single screen, you might arrange windows as below:\n",
    "\n",
    "![Screen layout example](assets/images/screen_layout.png)\n",
    "\n",
    "## How do I get help?\n",
    "\n",
    "Please ask questions in the chat - Steven Ford will be fielding these, to help ensure smooth running of the presentation part of the workshop.\n",
    "\n",
    "## What if I miss something?\n",
    "\n",
    "The materials will remain available at this site, so you will be able to return to them as a reference, or to cover items you may have missed.\n"
   ]
  },
  {
   "cell_type": "markdown",
   "metadata": {},
   "source": [
    "## Where next?\n",
    "\n",
    "- [Ten great papers for biologists starting out in computational biology](https://widdowquinn.github.io/ten_great_papers/) - collectively, an excellent primer/jumping off point for good practice in bioinformatics and computational biology\n",
    "- [The Carpentries](https://carpentries.org/) - excellent introductory courses in foundational coding and data science; <font color='firebrick'><b>we hope to be running at least one of these courses online this year in SIPBS</b></font>\n",
    "- [Bioinformatics Workbook](https://bioinformaticsworkbook.org/#gsc.tab=0) - tutorials on topics in bioinformatics\n",
    "- [Bioinformatics Algorithms](https://www.bioinformaticsalgorithms.org/home) - the home site for a textbook on bioinformatics algorithms, including lectures and other materials\n",
    "\n",
    "\n",
    "- [Introduction to Jupyter notebooks](https://realpython.com/jupyter-notebook-introduction/) - a good introduction to working in the Jupyter notebook system (which we're using for the workshop), and installing it on your own machine.\n",
    "  - [RealPython](https://realpython.com/) - this page is part of the `RealPython` site, which is a good (but not free) resource for learning or improving your Python skills\n",
    "\n",
    "- [rosalind.info](http://rosalind.info/problems/locations/) - interactive, self-paced bioinformatics problems\n",
    "- [Advent of Code](https://adventofcode.com/) - yearly programming challenges, themed around Christmas\n",
    "\n",
    "or send Leighton an email, for a chat."
   ]
  },
  {
   "cell_type": "code",
   "execution_count": null,
   "metadata": {},
   "outputs": [],
   "source": []
  }
 ],
 "metadata": {
  "kernelspec": {
   "display_name": "Python 3",
   "language": "python",
   "name": "python3"
  },
  "language_info": {
   "codemirror_mode": {
    "name": "ipython",
    "version": 3
   },
   "file_extension": ".py",
   "mimetype": "text/x-python",
   "name": "python",
   "nbconvert_exporter": "python",
   "pygments_lexer": "ipython3",
   "version": "3.7.9"
  }
 },
 "nbformat": 4,
 "nbformat_minor": 2
}
